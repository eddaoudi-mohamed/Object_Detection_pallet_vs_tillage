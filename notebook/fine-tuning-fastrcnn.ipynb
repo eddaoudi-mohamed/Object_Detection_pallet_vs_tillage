{
 "cells": [
  {
   "cell_type": "code",
   "execution_count": 2,
   "id": "132ffdec",
   "metadata": {
    "execution": {
     "iopub.execute_input": "2025-05-28T21:44:12.733052Z",
     "iopub.status.busy": "2025-05-28T21:44:12.732815Z",
     "iopub.status.idle": "2025-05-28T21:45:30.477674Z",
     "shell.execute_reply": "2025-05-28T21:45:30.476890Z"
    },
    "papermill": {
     "duration": 77.753816,
     "end_time": "2025-05-28T21:45:30.479050",
     "exception": false,
     "start_time": "2025-05-28T21:44:12.725234",
     "status": "completed"
    },
    "tags": []
   },
   "outputs": [
    {
     "name": "stdout",
     "output_type": "stream",
     "text": [
      "Cloning into 'vision'...\r\n",
      "remote: Enumerating objects: 636650, done.\u001b[K\r\n",
      "remote: Counting objects: 100% (391/391), done.\u001b[K\r\n",
      "remote: Compressing objects: 100% (259/259), done.\u001b[K\r\n",
      "remote: Total 636650 (delta 240), reused 133 (delta 132), pack-reused 636259 (from 3)\u001b[K\r\n",
      "Receiving objects: 100% (636650/636650), 1.18 GiB | 45.47 MiB/s, done.\r\n",
      "Resolving deltas: 100% (595489/595489), done.\r\n"
     ]
    }
   ],
   "source": [
    "!git clone https://github.com/pytorch/vision.git  #Training Metric Utilities from Torchvision"
   ]
  },
  {
   "cell_type": "code",
   "execution_count": 3,
   "id": "fa01951e",
   "metadata": {
    "execution": {
     "iopub.execute_input": "2025-05-28T21:45:30.516430Z",
     "iopub.status.busy": "2025-05-28T21:45:30.516104Z",
     "iopub.status.idle": "2025-05-28T21:45:59.765793Z",
     "shell.execute_reply": "2025-05-28T21:45:59.765211Z"
    },
    "papermill": {
     "duration": 29.269661,
     "end_time": "2025-05-28T21:45:59.767197",
     "exception": false,
     "start_time": "2025-05-28T21:45:30.497536",
     "status": "completed"
    },
    "tags": []
   },
   "outputs": [
    {
     "name": "stderr",
     "output_type": "stream",
     "text": [
      "2025-05-28 21:45:36.792713: E external/local_xla/xla/stream_executor/cuda/cuda_fft.cc:477] Unable to register cuFFT factory: Attempting to register factory for plugin cuFFT when one has already been registered\n",
      "WARNING: All log messages before absl::InitializeLog() is called are written to STDERR\n",
      "E0000 00:00:1748468736.997204      19 cuda_dnn.cc:8310] Unable to register cuDNN factory: Attempting to register factory for plugin cuDNN when one has already been registered\n",
      "E0000 00:00:1748468737.055348      19 cuda_blas.cc:1418] Unable to register cuBLAS factory: Attempting to register factory for plugin cuBLAS when one has already been registered\n"
     ]
    }
   ],
   "source": [
    "import os\n",
    "import gc\n",
    "import json\n",
    "import math\n",
    "import random\n",
    "import requests\n",
    "import zipfile\n",
    "import numpy as np\n",
    "from PIL import Image, ImageDraw, ImageFont, ImageOps, ImageStat\n",
    "import PIL\n",
    "import torch\n",
    "import torch.optim as optim\n",
    "from torch.utils.data import Dataset, DataLoader\n",
    "from torch.utils.tensorboard import SummaryWriter\n",
    " \n",
    "import matplotlib.pyplot as plt\n",
    "import matplotlib.patches as patches\n",
    "from matplotlib.patches import Patch\n",
    "import logging\n",
    "from tqdm import tqdm\n",
    " \n",
    "from torchmetrics.detection.mean_ap import MeanAveragePrecision\n",
    "from dataclasses import dataclass\n",
    "import torchvision\n",
    "from vision.references.detection import utils\n",
    " \n",
    "import torchvision.transforms as T\n",
    "from torchvision.transforms import v2 as Tv2\n",
    "from torchvision import tv_tensors\n",
    "from torchvision.transforms import functional as F\n",
    "from torchvision.transforms.functional import to_pil_image\n",
    " \n",
    "import torchvision.models.detection as detection\n",
    "from torchvision.models.detection import FasterRCNN\n",
    "from torchvision.models.detection.faster_rcnn import FastRCNNPredictor\n",
    "from torchvision.models.detection.transform import GeneralizedRCNNTransform\n",
    "\n",
    "def set_seeds():\n",
    "    # fix random seeds\n",
    "    SEED_VALUE = 42\n",
    " \n",
    "    random.seed(SEED_VALUE)\n",
    "    np.random.seed(SEED_VALUE)\n",
    "    torch.manual_seed(SEED_VALUE)\n",
    " \n",
    "    if torch.cuda.is_available():\n",
    "        torch.cuda.manual_seed(SEED_VALUE)\n",
    "        torch.cuda.manual_seed_all(SEED_VALUE)\n",
    "        torch.backends.cudnn.deterministic = True\n",
    "        torch.backends.cudnn.benchmark = True\n",
    "set_seeds()"
   ]
  },
  {
   "cell_type": "code",
   "execution_count": 4,
   "id": "c8c65b3e",
   "metadata": {
    "execution": {
     "iopub.execute_input": "2025-05-28T21:45:59.802974Z",
     "iopub.status.busy": "2025-05-28T21:45:59.802476Z",
     "iopub.status.idle": "2025-05-28T21:54:43.042555Z",
     "shell.execute_reply": "2025-05-28T21:54:43.041715Z"
    },
    "papermill": {
     "duration": 523.259678,
     "end_time": "2025-05-28T21:54:43.044371",
     "exception": false,
     "start_time": "2025-05-28T21:45:59.784693",
     "status": "completed"
    },
    "tags": []
   },
   "outputs": [],
   "source": [
    "import os\n",
    "import json\n",
    "import logging\n",
    "from PIL import Image, ImageStat\n",
    "\n",
    "logging.basicConfig(level=logging.INFO)\n",
    "from PIL import ImageStat\n",
    "\n",
    "def is_bbox_ignored(image, bbox, threshold=10):\n",
    "    x, y, w, h = bbox\n",
    "    if w <= 0 or h <= 0:\n",
    "        return True  # Invalid bounding box\n",
    "\n",
    "    cropped_image = image.crop((x, y, x + w, y + h))\n",
    "\n",
    "    if cropped_image.width == 0 or cropped_image.height == 0:\n",
    "        return True  # Empty crop, ignore\n",
    "\n",
    "    stat = ImageStat.Stat(cropped_image)\n",
    "    \n",
    "    try:\n",
    "        avg_color = stat.mean  # Average color (R, G, B)\n",
    "    except ZeroDivisionError:\n",
    "        return True  # Fallback in case it's still empty somehow\n",
    "\n",
    "    # Check if all color channels are below the threshold\n",
    "    return all(channel < threshold for channel in avg_color)\n",
    "\n",
    "\n",
    "def check_and_rotate_image(image):\n",
    "    width, height = image.size\n",
    "    if height > width:\n",
    "        return image.rotate(90, expand=True), True\n",
    "    return image, False\n",
    "\n",
    "def adjust_bbox_for_rotation(bbox, image_width, image_height):\n",
    "    x, y, w, h = bbox\n",
    "    new_x = y\n",
    "    new_y = image_width - (x + w)\n",
    "    return [new_x, new_y, h, w]\n",
    "\n",
    "def rotate_image_and_adjust_bbox(image, annotations, original_dims, image_id):\n",
    "    rotated_image = image.rotate(90, expand=True)\n",
    "    new_annotations = []\n",
    "    original_width, _ = original_dims\n",
    "    for ann in annotations:\n",
    "        if ann['image_id'] != image_id:\n",
    "            continue\n",
    "        x, y, w, h = ann['bbox']\n",
    "        new_x = y\n",
    "        new_y = original_width - (x + w)\n",
    "        new_bbox = [new_x, new_y, h, w]\n",
    "        new_ann = ann.copy()\n",
    "        new_ann['bbox'] = new_bbox\n",
    "        new_annotations.append(new_ann)\n",
    "    return rotated_image, new_annotations\n",
    "\n",
    "def create_patches(image, output_dir, image_filename, overlap_ratio=0.2):\n",
    "    image, was_rotated = check_and_rotate_image(image)\n",
    "    width, height = image.size\n",
    "    patch_width = int(width / 2)\n",
    "    patch_height = int(height / 2)\n",
    "    overlap_w = int(patch_width * overlap_ratio)\n",
    "    overlap_h = int(patch_height * overlap_ratio)\n",
    "    patches = []\n",
    "\n",
    "    for i in range(2):\n",
    "        for j in range(2):\n",
    "            left = i * (patch_width - overlap_w)\n",
    "            top = j * (patch_height - overlap_h)\n",
    "            right = min(left + patch_width, width)\n",
    "            bottom = min(top + patch_height, height)\n",
    "            patch = image.crop((left, top, right, bottom))\n",
    "            patch_filename = f'{os.path.splitext(image_filename)[0]}_{i}_{j}.jpg'\n",
    "            patch_path = os.path.join(output_dir, patch_filename)\n",
    "            patch.save(patch_path)\n",
    "            patches.append((patch_filename, left, top, right, bottom, was_rotated, patch))\n",
    "    return patches\n",
    "\n",
    "def adjust_bbox_for_patch(bbox, patch_coords):\n",
    "    left, top, right, bottom = patch_coords\n",
    "    x, y, w, h = bbox\n",
    "    x1, y1 = x, y\n",
    "    x2, y2 = x + w, y + h\n",
    "    if x2 <= left or x1 >= right or y2 <= top or y1 >= bottom:\n",
    "        return None\n",
    "    clamped_x1 = max(x1, left)\n",
    "    clamped_y1 = max(y1, top)\n",
    "    clamped_x2 = min(x2, right)\n",
    "    clamped_y2 = min(y2, bottom)\n",
    "    new_w = clamped_x2 - clamped_x1\n",
    "    new_h = clamped_y2 - clamped_y1\n",
    "    if new_w <= 0 or new_h <= 0:\n",
    "        return None\n",
    "    return [clamped_x1 - left, clamped_y1 - top, new_w, new_h]\n",
    "\n",
    "def get_annotations_for_patches(image, annotations, patches, original_image_id, starting_ann_id):\n",
    "    patch_annotations = []\n",
    "    new_images = []\n",
    "    ann_id = starting_ann_id\n",
    "\n",
    "    for idx, (patch_filename, left, top, right, bottom, was_rotated, patch_img) in enumerate(patches):\n",
    "        patch_coords = (left, top, right, bottom)\n",
    "        for ann in annotations:\n",
    "            if ann['image_id'] != original_image_id:\n",
    "                continue\n",
    "            bbox = ann['bbox']\n",
    "            if was_rotated:\n",
    "                bbox = adjust_bbox_for_rotation(bbox, right - left, bottom - top)\n",
    "            if is_bbox_ignored(image, bbox):\n",
    "                continue\n",
    "            adjusted_bbox = adjust_bbox_for_patch(bbox, patch_coords)\n",
    "            if adjusted_bbox:\n",
    "                patch_annotations.append({\n",
    "                    \"id\": ann_id,\n",
    "                    \"image_id\": patch_filename,\n",
    "                    \"bbox\": adjusted_bbox,\n",
    "                    \"area\": adjusted_bbox[2] * adjusted_bbox[3],\n",
    "                    \"category_id\": ann['category_id'],\n",
    "                    \"iscrowd\": 0\n",
    "                })\n",
    "                ann_id += 1\n",
    "        new_images.append({\n",
    "            \"id\": patch_filename,\n",
    "            \"file_name\": patch_filename,\n",
    "            \"width\": patch_img.size[0],\n",
    "            \"height\": patch_img.size[1]\n",
    "        })\n",
    "    return patch_annotations, new_images, ann_id\n",
    "\n",
    "def process_images_and_annotations(base_dir):\n",
    "    splits = ['train', 'valid']\n",
    "    for split in splits:\n",
    "        ann_path = os.path.join(base_dir, split, '_annotations.coco.json')\n",
    "        with open(ann_path, 'r') as f:\n",
    "            coco_data = json.load(f)\n",
    "\n",
    "        all_new_anns = []\n",
    "        all_new_imgs = []\n",
    "        ann_id = 1\n",
    "        out_img_dir = os.path.join(base_dir, 'output_patches', 'images', split)\n",
    "        out_ann_dir = os.path.join(base_dir, 'output_patches', 'annotations')\n",
    "        os.makedirs(out_img_dir, exist_ok=True)\n",
    "        os.makedirs(out_ann_dir, exist_ok=True)\n",
    "\n",
    "        for img_info in coco_data['images']:\n",
    "            img_id = img_info['id']\n",
    "            filename = img_info['file_name']\n",
    "            img_path = os.path.join(base_dir, split, filename)\n",
    "            if not os.path.exists(img_path):\n",
    "                continue\n",
    "            img = Image.open(img_path)\n",
    "            img = img.convert(\"RGB\")\n",
    "            orig_dims = (img_info['width'], img_info['height'])\n",
    "\n",
    "            if img_info['height'] > img_info['width']:\n",
    "                rotated_img, anns = rotate_image_and_adjust_bbox(img, coco_data['annotations'], orig_dims, img_id)\n",
    "            else:\n",
    "                rotated_img = img\n",
    "                anns = [ann for ann in coco_data['annotations'] if ann['image_id'] == img_id]\n",
    "\n",
    "            patches = create_patches(rotated_img, out_img_dir, filename)\n",
    "            patch_anns, patch_imgs, ann_id = get_annotations_for_patches(rotated_img, anns, patches, img_id, ann_id)\n",
    "            all_new_anns.extend(patch_anns)\n",
    "            all_new_imgs.extend(patch_imgs)\n",
    "\n",
    "        out_coco = {\n",
    "            \"images\": all_new_imgs,\n",
    "            \"annotations\": all_new_anns,\n",
    "            \"categories\": coco_data['categories']\n",
    "        }\n",
    "\n",
    "        with open(os.path.join(out_ann_dir, f'instances_{split}.json'), 'w') as f:\n",
    "            json.dump(out_coco, f, indent=4)\n",
    "\n",
    "# Set your base directory (containing 'train' and 'valid' folders)\n",
    "base_dir = '/kaggle/working/warehouse-1'\n",
    "process_images_and_annotations(base_dir)\n"
   ]
  },
  {
   "cell_type": "code",
   "execution_count": 5,
   "id": "6e2c0b3d",
   "metadata": {
    "execution": {
     "iopub.execute_input": "2025-05-28T21:54:43.080612Z",
     "iopub.status.busy": "2025-05-28T21:54:43.080347Z",
     "iopub.status.idle": "2025-05-28T21:54:43.096599Z",
     "shell.execute_reply": "2025-05-28T21:54:43.095758Z"
    },
    "papermill": {
     "duration": 0.035476,
     "end_time": "2025-05-28T21:54:43.097804",
     "exception": false,
     "start_time": "2025-05-28T21:54:43.062328",
     "status": "completed"
    },
    "tags": []
   },
   "outputs": [],
   "source": [
    "from dataclasses import dataclass\n",
    "@dataclass\n",
    "class DatasetConfig:\n",
    "    root: str\n",
    "    annotations_file: str\n",
    "    train_img_size: tuple\n",
    "    subset: str = 'train'  # Default to 'train'\n",
    "    transforms: any = None\n",
    "\n",
    "class CustomAerialDataset(Dataset):\n",
    "    def __init__(self, config: DatasetConfig):\n",
    "        self.root = config.root\n",
    "        self.transforms = config.transforms\n",
    "        self.train_img_size = config.train_img_size\n",
    "        self.subset = config.subset\n",
    "        self.annotations_file = os.path.join(self.root, 'annotations', f'instances_{self.subset}.json')\n",
    "        self.imgs = []\n",
    "        self.img_annotations = {}\n",
    "        self._load_images()\n",
    "        self._load_annotations()\n",
    " \n",
    "    def __len__(self):\n",
    "        return len(self.imgs)\n",
    "    def _load_images(self):\n",
    "        # Load all images from the subset directory\n",
    "        images_path = os.path.join(self.root, 'images', self.subset)\n",
    "        for image_filename in os.listdir(images_path):\n",
    "            image_path = os.path.join(images_path, image_filename)\n",
    "            if os.path.isfile(image_path) and image_path.endswith(('.png', '.jpg', '.jpeg')):\n",
    "                self.imgs.append(image_path)\n",
    "                image_id = os.path.basename(image_path)\n",
    "                # Initialize empty annotations for each image\n",
    "                if image_id not in self.img_annotations:\n",
    "                    self.img_annotations[image_id] = {'boxes': [], 'labels': []}\n",
    "    def _load_annotations(self):\n",
    "         with open(self.annotations_file, 'r') as f:\n",
    "            data = json.load(f)\n",
    "            for annotation in data['annotations']:\n",
    "                image_id = annotation[\"image_id\"]\n",
    "                bbox = annotation[\"bbox\"]\n",
    "                category_id = annotation[\"category_id\"]\n",
    "                image_path = os.path.join(self.root, 'images', self.subset, image_id)\n",
    "                if image_id in self.img_annotations:\n",
    "                    self.img_annotations[image_id]['boxes'].append(bbox)\n",
    "                    self.img_annotations[image_id]['labels'].append(category_id)\n",
    "    def __getitem__(self, idx):\n",
    "        img_path = self.imgs[idx]\n",
    "        if not os.path.exists(img_path):\n",
    "            # Return a default image (like a zero tensor) and a dummy target\n",
    "            default_img = torch.zeros(3, *self.train_img_size)  # Assuming 3 color channels\n",
    "            default_target = {'boxes': torch.tensor([[0, 0, 0, 0]], dtype=torch.float32),\n",
    "                              'labels': torch.tensor([0], dtype=torch.int64)}  # Background\n",
    "            return default_img, default_target\n",
    " \n",
    "        img = Image.open(img_path).convert(\"RGB\")\n",
    "        orig_width, orig_height = img.size\n",
    "        scale_x = self.train_img_size[0] / orig_width\n",
    "        scale_y = self.train_img_size[1] / orig_height\n",
    "        img = img.resize(self.train_img_size, Image.BILINEAR)\n",
    "        img = F.to_tensor(img)\n",
    " \n",
    "        annotations = self.img_annotations[os.path.basename(img_path)]\n",
    "        if annotations['boxes']:\n",
    "            scaled_boxes = [[max(0, min(bbox[0] * scale_x, self.train_img_size[0])),\n",
    "                             max(0, min(bbox[1] * scale_y, self.train_img_size[1])),\n",
    "                             max(0, min((bbox[0] + bbox[2]) * scale_x, self.train_img_size[0])),\n",
    "                             max(0, min((bbox[1] + bbox[3]) * scale_y, self.train_img_size[1]))]\n",
    "                            for bbox in annotations['boxes']]\n",
    "            labels = annotations['labels']\n",
    "        else:\n",
    "            scaled_boxes = [[0, 0, 0, 0]]\n",
    "            labels = [0]\n",
    " \n",
    "        boxes = torch.tensor(scaled_boxes, dtype=torch.float32)\n",
    "        labels = torch.tensor(labels, dtype=torch.int64)\n",
    " \n",
    "        target = {'boxes': boxes, 'labels': labels}\n",
    "        if self.transforms:\n",
    "            img, target = self.transforms(img, target)\n",
    "        return img, target\n",
    "\n",
    "def get_transform(train):\n",
    "    transforms = []\n",
    "    # if train:\n",
    "        # transforms.append(Tv2.RandomHorizontalFlip(0.5))\n",
    "    transforms.append(Tv2.ToDtype(torch.float, scale=True))\n",
    "    transforms.append(Tv2.ToPureTensor())\n",
    "    return Tv2.Compose(transforms)"
   ]
  },
  {
   "cell_type": "code",
   "execution_count": 6,
   "id": "d6a8a92e",
   "metadata": {
    "execution": {
     "iopub.execute_input": "2025-05-28T21:54:43.133949Z",
     "iopub.status.busy": "2025-05-28T21:54:43.133720Z",
     "iopub.status.idle": "2025-05-28T21:54:46.976744Z",
     "shell.execute_reply": "2025-05-28T21:54:46.975944Z"
    },
    "papermill": {
     "duration": 3.862013,
     "end_time": "2025-05-28T21:54:46.977931",
     "exception": false,
     "start_time": "2025-05-28T21:54:43.115918",
     "status": "completed"
    },
    "tags": []
   },
   "outputs": [
    {
     "name": "stdout",
     "output_type": "stream",
     "text": [
      "Length of Train Dataset: 42924\n",
      "Length of Validation Dataset: 5076\n"
     ]
    }
   ],
   "source": [
    "root = \"/kaggle/working/warehouse-1/output_patches\"\n",
    " \n",
    "# Configuration for training and validation datasets\n",
    "train_config = DatasetConfig(root,\n",
    "                             annotations_file='',  # This is now set based on subset in the __init__\n",
    "                             train_img_size=(416, 416),\n",
    "                             subset='train',\n",
    "                             transforms=get_transform(train=True))\n",
    "val_config = DatasetConfig(root,\n",
    "                           annotations_file='',\n",
    "                           train_img_size=(416, 416),\n",
    "                           subset='valid',\n",
    "                           transforms=get_transform(train=False))\n",
    " \n",
    "train_dataset = CustomAerialDataset(train_config)\n",
    "val_dataset = CustomAerialDataset(val_config)\n",
    " \n",
    "print(f\"Length of Train Dataset: {len(train_dataset)}\")\n",
    "print(f\"Length of Validation Dataset: {len(val_dataset)}\")"
   ]
  },
  {
   "cell_type": "code",
   "execution_count": 7,
   "id": "f0c2bf87",
   "metadata": {
    "execution": {
     "iopub.execute_input": "2025-05-28T21:54:47.012869Z",
     "iopub.status.busy": "2025-05-28T21:54:47.012632Z",
     "iopub.status.idle": "2025-05-28T21:54:47.018600Z",
     "shell.execute_reply": "2025-05-28T21:54:47.017796Z"
    },
    "papermill": {
     "duration": 0.024531,
     "end_time": "2025-05-28T21:54:47.019719",
     "exception": false,
     "start_time": "2025-05-28T21:54:46.995188",
     "status": "completed"
    },
    "tags": []
   },
   "outputs": [
    {
     "name": "stderr",
     "output_type": "stream",
     "text": [
      "This DataLoader will create 12 worker processes in total. Our suggested max number of worker in current system is 4, which is smaller than what this DataLoader is going to create. Please be aware that excessive worker creation might get DataLoader running slow or even freeze, lower the worker number to avoid potential slowness/freeze if necessary.\n"
     ]
    }
   ],
   "source": [
    "from torch.utils.data import Subset\n",
    "def collate_fn(batch):\n",
    "    imgs, targets = zip(*batch)\n",
    "    imgs = torch.stack(imgs, dim=0)\n",
    "    real_targets = []\n",
    "    for target in targets:\n",
    "        # Filter out dummy boxes\n",
    "        mask = target['boxes'].sum(dim=1) > 0\n",
    "        real_targets.append({'boxes': target['boxes'][mask], 'labels': target['labels'][mask]})\n",
    "    return imgs, real_targets\n",
    "\n",
    "limited_train_dataset = Subset(train_dataset, range(5000))\n",
    "limited_valid_dataset = Subset(val_dataset, range(200))\n",
    "\n",
    "train_data_loader = DataLoader(limited_train_dataset, batch_size=10, shuffle=True, collate_fn=collate_fn, num_workers=12)\n",
    "val_data_loader = DataLoader(limited_valid_dataset, batch_size=10, shuffle=False, collate_fn=collate_fn, num_workers=12)"
   ]
  },
  {
   "cell_type": "code",
   "execution_count": 8,
   "id": "c0b8dfd1",
   "metadata": {
    "execution": {
     "iopub.execute_input": "2025-05-28T21:54:47.056424Z",
     "iopub.status.busy": "2025-05-28T21:54:47.056151Z",
     "iopub.status.idle": "2025-05-28T21:54:47.063383Z",
     "shell.execute_reply": "2025-05-28T21:54:47.062842Z"
    },
    "papermill": {
     "duration": 0.027726,
     "end_time": "2025-05-28T21:54:47.064370",
     "exception": false,
     "start_time": "2025-05-28T21:54:47.036644",
     "status": "completed"
    },
    "tags": []
   },
   "outputs": [],
   "source": [
    "def show_image_with_boxes(img, targets, ax, category_colors):\n",
    "    \"\"\"Plot an image with its bounding boxes on an axis object.\"\"\"\n",
    "    # Convert tensor image to PIL for display if needed\n",
    "    if isinstance(img, torch.Tensor):\n",
    "        img = to_pil_image(img)\n",
    "        print(img.size)\n",
    "    ax.imshow(img)\n",
    " \n",
    "    # Check and plot each bounding box with class-specific color\n",
    "    if 'boxes' in targets and 'labels' in targets:\n",
    "        boxes = targets['boxes'].cpu().numpy()\n",
    "        labels = targets['labels'].cpu().numpy()\n",
    "        for bbox, label in zip(boxes, labels):\n",
    "            w = bbox[2]-bbox[0]\n",
    "            h = bbox[3]-bbox[1]\n",
    "            color = category_colors.get(label, 'gray')  # Use gray for unmapped classes\n",
    "            rect = patches.Rectangle((bbox[0], bbox[1]), w, h, linewidth=2, edgecolor=color, facecolor='none')\n",
    "            ax.add_patch(rect)\n",
    "            ax.text(bbox[0], bbox[1], str(label), color='white', fontsize=12, bbox=dict(facecolor=color, alpha=0.5))\n",
    " \n",
    "def visualize_samples(data_loader, category_colors, num_samples=20):\n",
    "    \"\"\"Visualize a specified number of samples from a DataLoader in a single column.\"\"\"\n",
    "    num_rows = num_samples  # All samples in a single column\n",
    "    num_cols = 1\n",
    "    fig, axs = plt.subplots(nrows=num_rows, ncols=num_cols, figsize=(15, 25 * num_rows // 4))  # Adjust height based on rows\n",
    "    samples_visualized = 0\n",
    " \n",
    "    for images, targets in data_loader:\n",
    "        for i, ax in enumerate(axs.flat):\n",
    "            if samples_visualized >= num_samples:\n",
    "                break  # Stop after displaying the desired number of samples\n",
    " \n",
    "            show_image_with_boxes(images[i], targets[i], ax, category_colors)\n",
    "            ax.axis('off')  # Turn off axis for cleaner look\n",
    "            samples_visualized += 1\n",
    " \n",
    "        # If enough samples visualized, break the loop to avoid extra iterations\n",
    "        if samples_visualized >= num_samples:\n",
    "            break\n",
    " \n",
    "    plt.tight_layout()\n",
    "    plt.show()\n"
   ]
  },
  {
   "cell_type": "code",
   "execution_count": 9,
   "id": "2a33991c",
   "metadata": {
    "execution": {
     "iopub.execute_input": "2025-05-28T21:54:47.098901Z",
     "iopub.status.busy": "2025-05-28T21:54:47.098695Z",
     "iopub.status.idle": "2025-05-28T21:54:47.102164Z",
     "shell.execute_reply": "2025-05-28T21:54:47.101578Z"
    },
    "papermill": {
     "duration": 0.021959,
     "end_time": "2025-05-28T21:54:47.103251",
     "exception": false,
     "start_time": "2025-05-28T21:54:47.081292",
     "status": "completed"
    },
    "tags": []
   },
   "outputs": [],
   "source": [
    "num_epochs = 25\n",
    "best_map = -float('inf') # Training loop\n",
    "# print(best_map)\n",
    "DEVICE = torch.device('cuda') if torch.cuda.is_available() else torch.device('cpu')"
   ]
  },
  {
   "cell_type": "code",
   "execution_count": 10,
   "id": "2c84c73e",
   "metadata": {
    "execution": {
     "iopub.execute_input": "2025-05-28T21:54:47.138649Z",
     "iopub.status.busy": "2025-05-28T21:54:47.138053Z",
     "iopub.status.idle": "2025-05-28T21:54:48.260740Z",
     "shell.execute_reply": "2025-05-28T21:54:48.259720Z"
    },
    "papermill": {
     "duration": 1.142093,
     "end_time": "2025-05-28T21:54:48.262376",
     "exception": false,
     "start_time": "2025-05-28T21:54:47.120283",
     "status": "completed"
    },
    "tags": []
   },
   "outputs": [
    {
     "name": "stderr",
     "output_type": "stream",
     "text": [
      "Downloading: \"https://download.pytorch.org/models/fasterrcnn_mobilenet_v3_large_fpn-fb6a3cc7.pth\" to /root/.cache/torch/hub/checkpoints/fasterrcnn_mobilenet_v3_large_fpn-fb6a3cc7.pth\n",
      "100%|██████████| 74.2M/74.2M [00:00<00:00, 157MB/s]\n"
     ]
    },
    {
     "name": "stdout",
     "output_type": "stream",
     "text": [
      "FasterRCNN(\n",
      "  (transform): GeneralizedRCNNTransform(\n",
      "      Normalize(mean=[0.485, 0.456, 0.406], std=[0.229, 0.224, 0.225])\n",
      "      Resize(min_size=(800,), max_size=1333, mode='bilinear')\n",
      "  )\n",
      "  (backbone): BackboneWithFPN(\n",
      "    (body): IntermediateLayerGetter(\n",
      "      (0): Conv2dNormActivation(\n",
      "        (0): Conv2d(3, 16, kernel_size=(3, 3), stride=(2, 2), padding=(1, 1), bias=False)\n",
      "        (1): FrozenBatchNorm2d(16, eps=1e-05)\n",
      "        (2): Hardswish()\n",
      "      )\n",
      "      (1): InvertedResidual(\n",
      "        (block): Sequential(\n",
      "          (0): Conv2dNormActivation(\n",
      "            (0): Conv2d(16, 16, kernel_size=(3, 3), stride=(1, 1), padding=(1, 1), groups=16, bias=False)\n",
      "            (1): FrozenBatchNorm2d(16, eps=1e-05)\n",
      "            (2): ReLU(inplace=True)\n",
      "          )\n",
      "          (1): Conv2dNormActivation(\n",
      "            (0): Conv2d(16, 16, kernel_size=(1, 1), stride=(1, 1), bias=False)\n",
      "            (1): FrozenBatchNorm2d(16, eps=1e-05)\n",
      "          )\n",
      "        )\n",
      "      )\n",
      "      (2): InvertedResidual(\n",
      "        (block): Sequential(\n",
      "          (0): Conv2dNormActivation(\n",
      "            (0): Conv2d(16, 64, kernel_size=(1, 1), stride=(1, 1), bias=False)\n",
      "            (1): FrozenBatchNorm2d(64, eps=1e-05)\n",
      "            (2): ReLU(inplace=True)\n",
      "          )\n",
      "          (1): Conv2dNormActivation(\n",
      "            (0): Conv2d(64, 64, kernel_size=(3, 3), stride=(2, 2), padding=(1, 1), groups=64, bias=False)\n",
      "            (1): FrozenBatchNorm2d(64, eps=1e-05)\n",
      "            (2): ReLU(inplace=True)\n",
      "          )\n",
      "          (2): Conv2dNormActivation(\n",
      "            (0): Conv2d(64, 24, kernel_size=(1, 1), stride=(1, 1), bias=False)\n",
      "            (1): FrozenBatchNorm2d(24, eps=1e-05)\n",
      "          )\n",
      "        )\n",
      "      )\n",
      "      (3): InvertedResidual(\n",
      "        (block): Sequential(\n",
      "          (0): Conv2dNormActivation(\n",
      "            (0): Conv2d(24, 72, kernel_size=(1, 1), stride=(1, 1), bias=False)\n",
      "            (1): FrozenBatchNorm2d(72, eps=1e-05)\n",
      "            (2): ReLU(inplace=True)\n",
      "          )\n",
      "          (1): Conv2dNormActivation(\n",
      "            (0): Conv2d(72, 72, kernel_size=(3, 3), stride=(1, 1), padding=(1, 1), groups=72, bias=False)\n",
      "            (1): FrozenBatchNorm2d(72, eps=1e-05)\n",
      "            (2): ReLU(inplace=True)\n",
      "          )\n",
      "          (2): Conv2dNormActivation(\n",
      "            (0): Conv2d(72, 24, kernel_size=(1, 1), stride=(1, 1), bias=False)\n",
      "            (1): FrozenBatchNorm2d(24, eps=1e-05)\n",
      "          )\n",
      "        )\n",
      "      )\n",
      "      (4): InvertedResidual(\n",
      "        (block): Sequential(\n",
      "          (0): Conv2dNormActivation(\n",
      "            (0): Conv2d(24, 72, kernel_size=(1, 1), stride=(1, 1), bias=False)\n",
      "            (1): FrozenBatchNorm2d(72, eps=1e-05)\n",
      "            (2): ReLU(inplace=True)\n",
      "          )\n",
      "          (1): Conv2dNormActivation(\n",
      "            (0): Conv2d(72, 72, kernel_size=(5, 5), stride=(2, 2), padding=(2, 2), groups=72, bias=False)\n",
      "            (1): FrozenBatchNorm2d(72, eps=1e-05)\n",
      "            (2): ReLU(inplace=True)\n",
      "          )\n",
      "          (2): SqueezeExcitation(\n",
      "            (avgpool): AdaptiveAvgPool2d(output_size=1)\n",
      "            (fc1): Conv2d(72, 24, kernel_size=(1, 1), stride=(1, 1))\n",
      "            (fc2): Conv2d(24, 72, kernel_size=(1, 1), stride=(1, 1))\n",
      "            (activation): ReLU()\n",
      "            (scale_activation): Hardsigmoid()\n",
      "          )\n",
      "          (3): Conv2dNormActivation(\n",
      "            (0): Conv2d(72, 40, kernel_size=(1, 1), stride=(1, 1), bias=False)\n",
      "            (1): FrozenBatchNorm2d(40, eps=1e-05)\n",
      "          )\n",
      "        )\n",
      "      )\n",
      "      (5): InvertedResidual(\n",
      "        (block): Sequential(\n",
      "          (0): Conv2dNormActivation(\n",
      "            (0): Conv2d(40, 120, kernel_size=(1, 1), stride=(1, 1), bias=False)\n",
      "            (1): FrozenBatchNorm2d(120, eps=1e-05)\n",
      "            (2): ReLU(inplace=True)\n",
      "          )\n",
      "          (1): Conv2dNormActivation(\n",
      "            (0): Conv2d(120, 120, kernel_size=(5, 5), stride=(1, 1), padding=(2, 2), groups=120, bias=False)\n",
      "            (1): FrozenBatchNorm2d(120, eps=1e-05)\n",
      "            (2): ReLU(inplace=True)\n",
      "          )\n",
      "          (2): SqueezeExcitation(\n",
      "            (avgpool): AdaptiveAvgPool2d(output_size=1)\n",
      "            (fc1): Conv2d(120, 32, kernel_size=(1, 1), stride=(1, 1))\n",
      "            (fc2): Conv2d(32, 120, kernel_size=(1, 1), stride=(1, 1))\n",
      "            (activation): ReLU()\n",
      "            (scale_activation): Hardsigmoid()\n",
      "          )\n",
      "          (3): Conv2dNormActivation(\n",
      "            (0): Conv2d(120, 40, kernel_size=(1, 1), stride=(1, 1), bias=False)\n",
      "            (1): FrozenBatchNorm2d(40, eps=1e-05)\n",
      "          )\n",
      "        )\n",
      "      )\n",
      "      (6): InvertedResidual(\n",
      "        (block): Sequential(\n",
      "          (0): Conv2dNormActivation(\n",
      "            (0): Conv2d(40, 120, kernel_size=(1, 1), stride=(1, 1), bias=False)\n",
      "            (1): FrozenBatchNorm2d(120, eps=1e-05)\n",
      "            (2): ReLU(inplace=True)\n",
      "          )\n",
      "          (1): Conv2dNormActivation(\n",
      "            (0): Conv2d(120, 120, kernel_size=(5, 5), stride=(1, 1), padding=(2, 2), groups=120, bias=False)\n",
      "            (1): FrozenBatchNorm2d(120, eps=1e-05)\n",
      "            (2): ReLU(inplace=True)\n",
      "          )\n",
      "          (2): SqueezeExcitation(\n",
      "            (avgpool): AdaptiveAvgPool2d(output_size=1)\n",
      "            (fc1): Conv2d(120, 32, kernel_size=(1, 1), stride=(1, 1))\n",
      "            (fc2): Conv2d(32, 120, kernel_size=(1, 1), stride=(1, 1))\n",
      "            (activation): ReLU()\n",
      "            (scale_activation): Hardsigmoid()\n",
      "          )\n",
      "          (3): Conv2dNormActivation(\n",
      "            (0): Conv2d(120, 40, kernel_size=(1, 1), stride=(1, 1), bias=False)\n",
      "            (1): FrozenBatchNorm2d(40, eps=1e-05)\n",
      "          )\n",
      "        )\n",
      "      )\n",
      "      (7): InvertedResidual(\n",
      "        (block): Sequential(\n",
      "          (0): Conv2dNormActivation(\n",
      "            (0): Conv2d(40, 240, kernel_size=(1, 1), stride=(1, 1), bias=False)\n",
      "            (1): FrozenBatchNorm2d(240, eps=1e-05)\n",
      "            (2): Hardswish()\n",
      "          )\n",
      "          (1): Conv2dNormActivation(\n",
      "            (0): Conv2d(240, 240, kernel_size=(3, 3), stride=(2, 2), padding=(1, 1), groups=240, bias=False)\n",
      "            (1): FrozenBatchNorm2d(240, eps=1e-05)\n",
      "            (2): Hardswish()\n",
      "          )\n",
      "          (2): Conv2dNormActivation(\n",
      "            (0): Conv2d(240, 80, kernel_size=(1, 1), stride=(1, 1), bias=False)\n",
      "            (1): FrozenBatchNorm2d(80, eps=1e-05)\n",
      "          )\n",
      "        )\n",
      "      )\n",
      "      (8): InvertedResidual(\n",
      "        (block): Sequential(\n",
      "          (0): Conv2dNormActivation(\n",
      "            (0): Conv2d(80, 200, kernel_size=(1, 1), stride=(1, 1), bias=False)\n",
      "            (1): FrozenBatchNorm2d(200, eps=1e-05)\n",
      "            (2): Hardswish()\n",
      "          )\n",
      "          (1): Conv2dNormActivation(\n",
      "            (0): Conv2d(200, 200, kernel_size=(3, 3), stride=(1, 1), padding=(1, 1), groups=200, bias=False)\n",
      "            (1): FrozenBatchNorm2d(200, eps=1e-05)\n",
      "            (2): Hardswish()\n",
      "          )\n",
      "          (2): Conv2dNormActivation(\n",
      "            (0): Conv2d(200, 80, kernel_size=(1, 1), stride=(1, 1), bias=False)\n",
      "            (1): FrozenBatchNorm2d(80, eps=1e-05)\n",
      "          )\n",
      "        )\n",
      "      )\n",
      "      (9): InvertedResidual(\n",
      "        (block): Sequential(\n",
      "          (0): Conv2dNormActivation(\n",
      "            (0): Conv2d(80, 184, kernel_size=(1, 1), stride=(1, 1), bias=False)\n",
      "            (1): FrozenBatchNorm2d(184, eps=1e-05)\n",
      "            (2): Hardswish()\n",
      "          )\n",
      "          (1): Conv2dNormActivation(\n",
      "            (0): Conv2d(184, 184, kernel_size=(3, 3), stride=(1, 1), padding=(1, 1), groups=184, bias=False)\n",
      "            (1): FrozenBatchNorm2d(184, eps=1e-05)\n",
      "            (2): Hardswish()\n",
      "          )\n",
      "          (2): Conv2dNormActivation(\n",
      "            (0): Conv2d(184, 80, kernel_size=(1, 1), stride=(1, 1), bias=False)\n",
      "            (1): FrozenBatchNorm2d(80, eps=1e-05)\n",
      "          )\n",
      "        )\n",
      "      )\n",
      "      (10): InvertedResidual(\n",
      "        (block): Sequential(\n",
      "          (0): Conv2dNormActivation(\n",
      "            (0): Conv2d(80, 184, kernel_size=(1, 1), stride=(1, 1), bias=False)\n",
      "            (1): FrozenBatchNorm2d(184, eps=1e-05)\n",
      "            (2): Hardswish()\n",
      "          )\n",
      "          (1): Conv2dNormActivation(\n",
      "            (0): Conv2d(184, 184, kernel_size=(3, 3), stride=(1, 1), padding=(1, 1), groups=184, bias=False)\n",
      "            (1): FrozenBatchNorm2d(184, eps=1e-05)\n",
      "            (2): Hardswish()\n",
      "          )\n",
      "          (2): Conv2dNormActivation(\n",
      "            (0): Conv2d(184, 80, kernel_size=(1, 1), stride=(1, 1), bias=False)\n",
      "            (1): FrozenBatchNorm2d(80, eps=1e-05)\n",
      "          )\n",
      "        )\n",
      "      )\n",
      "      (11): InvertedResidual(\n",
      "        (block): Sequential(\n",
      "          (0): Conv2dNormActivation(\n",
      "            (0): Conv2d(80, 480, kernel_size=(1, 1), stride=(1, 1), bias=False)\n",
      "            (1): FrozenBatchNorm2d(480, eps=1e-05)\n",
      "            (2): Hardswish()\n",
      "          )\n",
      "          (1): Conv2dNormActivation(\n",
      "            (0): Conv2d(480, 480, kernel_size=(3, 3), stride=(1, 1), padding=(1, 1), groups=480, bias=False)\n",
      "            (1): FrozenBatchNorm2d(480, eps=1e-05)\n",
      "            (2): Hardswish()\n",
      "          )\n",
      "          (2): SqueezeExcitation(\n",
      "            (avgpool): AdaptiveAvgPool2d(output_size=1)\n",
      "            (fc1): Conv2d(480, 120, kernel_size=(1, 1), stride=(1, 1))\n",
      "            (fc2): Conv2d(120, 480, kernel_size=(1, 1), stride=(1, 1))\n",
      "            (activation): ReLU()\n",
      "            (scale_activation): Hardsigmoid()\n",
      "          )\n",
      "          (3): Conv2dNormActivation(\n",
      "            (0): Conv2d(480, 112, kernel_size=(1, 1), stride=(1, 1), bias=False)\n",
      "            (1): FrozenBatchNorm2d(112, eps=1e-05)\n",
      "          )\n",
      "        )\n",
      "      )\n",
      "      (12): InvertedResidual(\n",
      "        (block): Sequential(\n",
      "          (0): Conv2dNormActivation(\n",
      "            (0): Conv2d(112, 672, kernel_size=(1, 1), stride=(1, 1), bias=False)\n",
      "            (1): FrozenBatchNorm2d(672, eps=1e-05)\n",
      "            (2): Hardswish()\n",
      "          )\n",
      "          (1): Conv2dNormActivation(\n",
      "            (0): Conv2d(672, 672, kernel_size=(3, 3), stride=(1, 1), padding=(1, 1), groups=672, bias=False)\n",
      "            (1): FrozenBatchNorm2d(672, eps=1e-05)\n",
      "            (2): Hardswish()\n",
      "          )\n",
      "          (2): SqueezeExcitation(\n",
      "            (avgpool): AdaptiveAvgPool2d(output_size=1)\n",
      "            (fc1): Conv2d(672, 168, kernel_size=(1, 1), stride=(1, 1))\n",
      "            (fc2): Conv2d(168, 672, kernel_size=(1, 1), stride=(1, 1))\n",
      "            (activation): ReLU()\n",
      "            (scale_activation): Hardsigmoid()\n",
      "          )\n",
      "          (3): Conv2dNormActivation(\n",
      "            (0): Conv2d(672, 112, kernel_size=(1, 1), stride=(1, 1), bias=False)\n",
      "            (1): FrozenBatchNorm2d(112, eps=1e-05)\n",
      "          )\n",
      "        )\n",
      "      )\n",
      "      (13): InvertedResidual(\n",
      "        (block): Sequential(\n",
      "          (0): Conv2dNormActivation(\n",
      "            (0): Conv2d(112, 672, kernel_size=(1, 1), stride=(1, 1), bias=False)\n",
      "            (1): FrozenBatchNorm2d(672, eps=1e-05)\n",
      "            (2): Hardswish()\n",
      "          )\n",
      "          (1): Conv2dNormActivation(\n",
      "            (0): Conv2d(672, 672, kernel_size=(5, 5), stride=(2, 2), padding=(2, 2), groups=672, bias=False)\n",
      "            (1): FrozenBatchNorm2d(672, eps=1e-05)\n",
      "            (2): Hardswish()\n",
      "          )\n",
      "          (2): SqueezeExcitation(\n",
      "            (avgpool): AdaptiveAvgPool2d(output_size=1)\n",
      "            (fc1): Conv2d(672, 168, kernel_size=(1, 1), stride=(1, 1))\n",
      "            (fc2): Conv2d(168, 672, kernel_size=(1, 1), stride=(1, 1))\n",
      "            (activation): ReLU()\n",
      "            (scale_activation): Hardsigmoid()\n",
      "          )\n",
      "          (3): Conv2dNormActivation(\n",
      "            (0): Conv2d(672, 160, kernel_size=(1, 1), stride=(1, 1), bias=False)\n",
      "            (1): FrozenBatchNorm2d(160, eps=1e-05)\n",
      "          )\n",
      "        )\n",
      "      )\n",
      "      (14): InvertedResidual(\n",
      "        (block): Sequential(\n",
      "          (0): Conv2dNormActivation(\n",
      "            (0): Conv2d(160, 960, kernel_size=(1, 1), stride=(1, 1), bias=False)\n",
      "            (1): FrozenBatchNorm2d(960, eps=1e-05)\n",
      "            (2): Hardswish()\n",
      "          )\n",
      "          (1): Conv2dNormActivation(\n",
      "            (0): Conv2d(960, 960, kernel_size=(5, 5), stride=(1, 1), padding=(2, 2), groups=960, bias=False)\n",
      "            (1): FrozenBatchNorm2d(960, eps=1e-05)\n",
      "            (2): Hardswish()\n",
      "          )\n",
      "          (2): SqueezeExcitation(\n",
      "            (avgpool): AdaptiveAvgPool2d(output_size=1)\n",
      "            (fc1): Conv2d(960, 240, kernel_size=(1, 1), stride=(1, 1))\n",
      "            (fc2): Conv2d(240, 960, kernel_size=(1, 1), stride=(1, 1))\n",
      "            (activation): ReLU()\n",
      "            (scale_activation): Hardsigmoid()\n",
      "          )\n",
      "          (3): Conv2dNormActivation(\n",
      "            (0): Conv2d(960, 160, kernel_size=(1, 1), stride=(1, 1), bias=False)\n",
      "            (1): FrozenBatchNorm2d(160, eps=1e-05)\n",
      "          )\n",
      "        )\n",
      "      )\n",
      "      (15): InvertedResidual(\n",
      "        (block): Sequential(\n",
      "          (0): Conv2dNormActivation(\n",
      "            (0): Conv2d(160, 960, kernel_size=(1, 1), stride=(1, 1), bias=False)\n",
      "            (1): FrozenBatchNorm2d(960, eps=1e-05)\n",
      "            (2): Hardswish()\n",
      "          )\n",
      "          (1): Conv2dNormActivation(\n",
      "            (0): Conv2d(960, 960, kernel_size=(5, 5), stride=(1, 1), padding=(2, 2), groups=960, bias=False)\n",
      "            (1): FrozenBatchNorm2d(960, eps=1e-05)\n",
      "            (2): Hardswish()\n",
      "          )\n",
      "          (2): SqueezeExcitation(\n",
      "            (avgpool): AdaptiveAvgPool2d(output_size=1)\n",
      "            (fc1): Conv2d(960, 240, kernel_size=(1, 1), stride=(1, 1))\n",
      "            (fc2): Conv2d(240, 960, kernel_size=(1, 1), stride=(1, 1))\n",
      "            (activation): ReLU()\n",
      "            (scale_activation): Hardsigmoid()\n",
      "          )\n",
      "          (3): Conv2dNormActivation(\n",
      "            (0): Conv2d(960, 160, kernel_size=(1, 1), stride=(1, 1), bias=False)\n",
      "            (1): FrozenBatchNorm2d(160, eps=1e-05)\n",
      "          )\n",
      "        )\n",
      "      )\n",
      "      (16): Conv2dNormActivation(\n",
      "        (0): Conv2d(160, 960, kernel_size=(1, 1), stride=(1, 1), bias=False)\n",
      "        (1): FrozenBatchNorm2d(960, eps=1e-05)\n",
      "        (2): Hardswish()\n",
      "      )\n",
      "    )\n",
      "    (fpn): FeaturePyramidNetwork(\n",
      "      (inner_blocks): ModuleList(\n",
      "        (0): Conv2dNormActivation(\n",
      "          (0): Conv2d(160, 256, kernel_size=(1, 1), stride=(1, 1))\n",
      "        )\n",
      "        (1): Conv2dNormActivation(\n",
      "          (0): Conv2d(960, 256, kernel_size=(1, 1), stride=(1, 1))\n",
      "        )\n",
      "      )\n",
      "      (layer_blocks): ModuleList(\n",
      "        (0-1): 2 x Conv2dNormActivation(\n",
      "          (0): Conv2d(256, 256, kernel_size=(3, 3), stride=(1, 1), padding=(1, 1))\n",
      "        )\n",
      "      )\n",
      "      (extra_blocks): LastLevelMaxPool()\n",
      "    )\n",
      "  )\n",
      "  (rpn): RegionProposalNetwork(\n",
      "    (anchor_generator): AnchorGenerator()\n",
      "    (head): RPNHead(\n",
      "      (conv): Sequential(\n",
      "        (0): Conv2dNormActivation(\n",
      "          (0): Conv2d(256, 256, kernel_size=(3, 3), stride=(1, 1), padding=(1, 1))\n",
      "          (1): ReLU(inplace=True)\n",
      "        )\n",
      "      )\n",
      "      (cls_logits): Conv2d(256, 15, kernel_size=(1, 1), stride=(1, 1))\n",
      "      (bbox_pred): Conv2d(256, 60, kernel_size=(1, 1), stride=(1, 1))\n",
      "    )\n",
      "  )\n",
      "  (roi_heads): RoIHeads(\n",
      "    (box_roi_pool): MultiScaleRoIAlign(featmap_names=['0', '1', '2', '3'], output_size=(7, 7), sampling_ratio=2)\n",
      "    (box_head): TwoMLPHead(\n",
      "      (fc6): Linear(in_features=12544, out_features=1024, bias=True)\n",
      "      (fc7): Linear(in_features=1024, out_features=1024, bias=True)\n",
      "    )\n",
      "    (box_predictor): FastRCNNPredictor(\n",
      "      (cls_score): Linear(in_features=1024, out_features=6, bias=True)\n",
      "      (bbox_pred): Linear(in_features=1024, out_features=24, bias=True)\n",
      "    )\n",
      "  )\n",
      ")\n"
     ]
    },
    {
     "name": "stderr",
     "output_type": "stream",
     "text": [
      "`torch.cuda.amp.GradScaler(args...)` is deprecated. Please use `torch.amp.GradScaler('cuda', args...)` instead.\n"
     ]
    }
   ],
   "source": [
    "def get_model(num_classes):\n",
    "    model = detection.fasterrcnn_mobilenet_v3_large_fpn(weights=\"DEFAULT\")\n",
    " \n",
    "    #Get the number of input features for the classifier\n",
    "    in_features = model.roi_heads.box_predictor.cls_score.in_features\n",
    "    #Replace pretrained head with new one\n",
    "    model.roi_heads.box_predictor = FastRCNNPredictor(in_features,num_classes)\n",
    "    return model\n",
    " \n",
    "num_classes = 6\n",
    "model = get_model(num_classes)\n",
    "model.to(DEVICE)\n",
    " \n",
    "print(model)\n",
    "# print(model.fc1(x).size())\n",
    "params = [p for p in model.parameters() if p.requires_grad]\n",
    "optimizer = optim.SGD(params,lr=0.0005,momentum=0.9,weight_decay=0.0005)\n",
    "# and a learning rate scheduler\n",
    "lr_scheduler = torch.optim.lr_scheduler.StepLR(\n",
    "    optimizer,\n",
    "    step_size=num_epochs//2,\n",
    "    gamma=0.1\n",
    ")\n",
    "scaler = torch.cuda.amp.GradScaler()"
   ]
  },
  {
   "cell_type": "code",
   "execution_count": 11,
   "id": "1e995f6e",
   "metadata": {
    "execution": {
     "iopub.execute_input": "2025-05-28T21:54:48.349634Z",
     "iopub.status.busy": "2025-05-28T21:54:48.349344Z",
     "iopub.status.idle": "2025-05-28T21:54:48.366318Z",
     "shell.execute_reply": "2025-05-28T21:54:48.365555Z"
    },
    "papermill": {
     "duration": 0.03737,
     "end_time": "2025-05-28T21:54:48.367806",
     "exception": false,
     "start_time": "2025-05-28T21:54:48.330436",
     "status": "completed"
    },
    "tags": []
   },
   "outputs": [],
   "source": [
    "# Initialize TensorBoard writer\n",
    "writer = SummaryWriter(log_dir='runs/aerial_detection')\n",
    " \n",
    "def train_one_epoch(model, data_loader, device, optimizer, print_freq, epoch, scaler=None):\n",
    "    model.train()\n",
    "    metric_logger = utils.MetricLogger(delimiter=\"  \")\n",
    "    metric_logger.add_meter(\"lr\", utils.SmoothedValue(window_size=1, fmt=\"{value:.6f}\"))\n",
    "    header = f\"Training Epoch {epoch}:\"\n",
    "    model.to(device)\n",
    " \n",
    "    with tqdm(data_loader, desc=header) as tq:\n",
    "        lr_scheduler = None\n",
    "        for i, (images, targets) in enumerate(tq):\n",
    "            images = [img.to(device) for img in images]\n",
    "            targets = [{k: v.to(device) for k, v in t.items()} for t in targets]\n",
    " \n",
    "            with torch.cuda.amp.autocast(enabled=scaler is not None):\n",
    "                loss_dict = model(images, targets)\n",
    "                losses = sum(loss for loss in loss_dict.values())\n",
    " \n",
    "            loss_value = losses.item()\n",
    "            optimizer.zero_grad()\n",
    " \n",
    "            if scaler is not None:\n",
    "                scaler.scale(losses).backward()\n",
    "                scaler.step(optimizer)\n",
    "                scaler.update()\n",
    "            else:\n",
    "                losses.backward()\n",
    "                optimizer.step()\n",
    " \n",
    "            if lr_scheduler is not None:\n",
    "                lr_scheduler.step()\n",
    " \n",
    "            metric_logger.update(loss=losses, **loss_dict)\n",
    "            metric_logger.update(lr=optimizer.param_groups[0][\"lr\"])\n",
    " \n",
    "            # Update tqdm postfix to display loss on the progress bar\n",
    "            tq.set_postfix(loss=losses.item(), lr=optimizer.param_groups[0][\"lr\"])\n",
    " \n",
    "            # Log losses to TensorBoard\n",
    "            writer.add_scalar('Loss/train', losses.item(), epoch * len(data_loader) + i)\n",
    "            for k, v in loss_dict.items():\n",
    "                writer.add_scalar(f'Loss/train_{k}', v.item(), epoch * len(data_loader) + i)\n",
    " \n",
    "    print(f\"Average Loss: {metric_logger.meters['loss'].global_avg:.4f}\")\n",
    "    writer.add_scalar('Loss/avg_train', metric_logger.meters['loss'].global_avg, epoch)\n",
    "\n",
    "\n",
    "\n",
    "def evaluate(model, data_loader, device, epoch, save_dir):\n",
    "    model.eval()\n",
    "    metric = MeanAveragePrecision(iou_type=\"bbox\")\n",
    "    total_iou = 0\n",
    "    total_detections = 0\n",
    "    header = \"Validation:\"\n",
    "    total_steps = len(data_loader)\n",
    "    samples = []\n",
    " \n",
    "    with torch.no_grad(), tqdm(total=total_steps, desc=header) as progress_bar:\n",
    "        for i, (images, targets) in enumerate(data_loader):\n",
    "            images = [img.to(device) for img in images]\n",
    "            targets = [{k: v.to(device) for k, v in t.items()} for t in targets]\n",
    "            outputs = model(images)\n",
    " \n",
    "            # Convert outputs for torchmetrics\n",
    "            preds = [\n",
    "                {\"boxes\": out[\"boxes\"], \"scores\": out[\"scores\"], \"labels\": out[\"labels\"]}\n",
    "                for out in outputs\n",
    "            ]\n",
    "            targs = [\n",
    "                {\"boxes\": tgt[\"boxes\"], \"labels\": tgt[\"labels\"]}\n",
    "                for tgt in targets\n",
    "            ]\n",
    " \n",
    "            # Update metric for mAP calculation\n",
    "            metric.update(preds, targs)\n",
    " \n",
    "            # Collect samples for visualization (limit to 5)\n",
    "            if len(samples) < 5:\n",
    "                for img, out, tgt in zip(images, outputs, targets):\n",
    "                    samples.append((img, out, tgt))\n",
    "                    if len(samples) >= 5:\n",
    "                        break\n",
    " \n",
    "            progress_bar.update(1)\n",
    " \n",
    "    # Visualize predictions\n",
    "    results = metric.compute()\n",
    "    print(\"mAP results:\")\n",
    "    print(results)\n",
    " \n",
    "    # Log mAP to TensorBoard\n",
    " \n",
    "    for k, v in results.items():\n",
    "        if v.numel() == 1:  # Single element tensor\n",
    "            writer.add_scalar(f'mAP/{k}', v.item(), epoch)\n",
    "        else:  # Multi-element tensor, log each element separately\n",
    "            for idx, value in enumerate(v):\n",
    "                writer.add_scalar(f'mAP/{k}_{idx}', value.item(), epoch)\n",
    "    return results"
   ]
  },
  {
   "cell_type": "code",
   "execution_count": 12,
   "id": "9fc5ecc1",
   "metadata": {
    "execution": {
     "iopub.execute_input": "2025-05-28T21:54:48.408355Z",
     "iopub.status.busy": "2025-05-28T21:54:48.408131Z",
     "iopub.status.idle": "2025-05-28T21:54:48.411913Z",
     "shell.execute_reply": "2025-05-28T21:54:48.411302Z"
    },
    "papermill": {
     "duration": 0.027179,
     "end_time": "2025-05-28T21:54:48.412923",
     "exception": false,
     "start_time": "2025-05-28T21:54:48.385744",
     "status": "completed"
    },
    "tags": []
   },
   "outputs": [
    {
     "name": "stdout",
     "output_type": "stream",
     "text": [
      "500\n"
     ]
    }
   ],
   "source": [
    "print(len(train_data_loader))"
   ]
  },
  {
   "cell_type": "code",
   "execution_count": 13,
   "id": "c37ae40f",
   "metadata": {
    "execution": {
     "iopub.execute_input": "2025-05-28T21:54:48.459881Z",
     "iopub.status.busy": "2025-05-28T21:54:48.459158Z",
     "iopub.status.idle": "2025-05-29T00:14:16.221861Z",
     "shell.execute_reply": "2025-05-29T00:14:16.221054Z"
    },
    "papermill": {
     "duration": 8367.792399,
     "end_time": "2025-05-29T00:14:16.223373",
     "exception": false,
     "start_time": "2025-05-28T21:54:48.430974",
     "status": "completed"
    },
    "tags": []
   },
   "outputs": [
    {
     "name": "stderr",
     "output_type": "stream",
     "text": [
      "Training Epoch 0::   0%|          | 0/500 [00:00<?, ?it/s]`torch.cuda.amp.autocast(args...)` is deprecated. Please use `torch.amp.autocast('cuda', args...)` instead.\n",
      "Training Epoch 0:: 100%|██████████| 500/500 [02:44<00:00,  3.05it/s, loss=0.79, lr=0.0005]\n"
     ]
    },
    {
     "name": "stdout",
     "output_type": "stream",
     "text": [
      "Average Loss: 1.0728\n"
     ]
    },
    {
     "name": "stderr",
     "output_type": "stream",
     "text": [
      "Validation:: 100%|██████████| 500/500 [02:09<00:00,  3.87it/s]\n"
     ]
    },
    {
     "name": "stdout",
     "output_type": "stream",
     "text": [
      "mAP results:\n",
      "{'map': tensor(0.0621), 'map_50': tensor(0.1279), 'map_75': tensor(0.0534), 'map_small': tensor(0.0109), 'map_medium': tensor(0.0710), 'map_large': tensor(0.1306), 'mar_1': tensor(0.0725), 'mar_10': tensor(0.1664), 'mar_100': tensor(0.1952), 'mar_small': tensor(0.0350), 'mar_medium': tensor(0.1908), 'mar_large': tensor(0.3805), 'map_per_class': tensor(-1.), 'mar_100_per_class': tensor(-1.), 'classes': tensor([1, 2, 3, 4, 5], dtype=torch.int32)}\n"
     ]
    },
    {
     "name": "stderr",
     "output_type": "stream",
     "text": [
      "Validation:: 100%|██████████| 20/20 [00:05<00:00,  3.34it/s]\n"
     ]
    },
    {
     "name": "stdout",
     "output_type": "stream",
     "text": [
      "mAP results:\n",
      "{'map': tensor(0.0032), 'map_50': tensor(0.0054), 'map_75': tensor(0.0040), 'map_small': tensor(1.8602e-05), 'map_medium': tensor(0.0005), 'map_large': tensor(0.0076), 'mar_1': tensor(0.0061), 'mar_10': tensor(0.0078), 'mar_100': tensor(0.0087), 'mar_small': tensor(0.0011), 'mar_medium': tensor(0.0066), 'mar_large': tensor(0.0140), 'map_per_class': tensor(-1.), 'mar_100_per_class': tensor(-1.), 'classes': tensor([1, 2, 3, 4, 5], dtype=torch.int32)}\n"
     ]
    },
    {
     "name": "stderr",
     "output_type": "stream",
     "text": [
      "Training Epoch 1:: 100%|██████████| 500/500 [02:42<00:00,  3.08it/s, loss=0.851, lr=0.0005]\n"
     ]
    },
    {
     "name": "stdout",
     "output_type": "stream",
     "text": [
      "Average Loss: 0.8774\n"
     ]
    },
    {
     "name": "stderr",
     "output_type": "stream",
     "text": [
      "Validation:: 100%|██████████| 500/500 [02:07<00:00,  3.92it/s]\n"
     ]
    },
    {
     "name": "stdout",
     "output_type": "stream",
     "text": [
      "mAP results:\n",
      "{'map': tensor(0.1030), 'map_50': tensor(0.1986), 'map_75': tensor(0.0938), 'map_small': tensor(0.0167), 'map_medium': tensor(0.1077), 'map_large': tensor(0.2187), 'mar_1': tensor(0.1063), 'mar_10': tensor(0.2282), 'mar_100': tensor(0.2667), 'mar_small': tensor(0.0517), 'mar_medium': tensor(0.2658), 'mar_large': tensor(0.4723), 'map_per_class': tensor(-1.), 'mar_100_per_class': tensor(-1.), 'classes': tensor([1, 2, 3, 4, 5], dtype=torch.int32)}\n"
     ]
    },
    {
     "name": "stderr",
     "output_type": "stream",
     "text": [
      "Validation:: 100%|██████████| 20/20 [00:06<00:00,  3.32it/s]\n"
     ]
    },
    {
     "name": "stdout",
     "output_type": "stream",
     "text": [
      "mAP results:\n",
      "{'map': tensor(0.0030), 'map_50': tensor(0.0075), 'map_75': tensor(0.0024), 'map_small': tensor(1.9983e-05), 'map_medium': tensor(0.0023), 'map_large': tensor(0.0058), 'mar_1': tensor(0.0110), 'mar_10': tensor(0.0187), 'mar_100': tensor(0.0200), 'mar_small': tensor(0.0012), 'mar_medium': tensor(0.0139), 'mar_large': tensor(0.0302), 'map_per_class': tensor(-1.), 'mar_100_per_class': tensor(-1.), 'classes': tensor([1, 2, 3, 4, 5], dtype=torch.int32)}\n"
     ]
    },
    {
     "name": "stderr",
     "output_type": "stream",
     "text": [
      "Training Epoch 2:: 100%|██████████| 500/500 [02:40<00:00,  3.11it/s, loss=0.833, lr=0.0005]\n"
     ]
    },
    {
     "name": "stdout",
     "output_type": "stream",
     "text": [
      "Average Loss: 0.8095\n"
     ]
    },
    {
     "name": "stderr",
     "output_type": "stream",
     "text": [
      "Validation:: 100%|██████████| 500/500 [02:07<00:00,  3.92it/s]\n"
     ]
    },
    {
     "name": "stdout",
     "output_type": "stream",
     "text": [
      "mAP results:\n",
      "{'map': tensor(0.1286), 'map_50': tensor(0.2435), 'map_75': tensor(0.1203), 'map_small': tensor(0.0203), 'map_medium': tensor(0.1303), 'map_large': tensor(0.2622), 'mar_1': tensor(0.1311), 'mar_10': tensor(0.2631), 'mar_100': tensor(0.3045), 'mar_small': tensor(0.0595), 'mar_medium': tensor(0.2968), 'mar_large': tensor(0.5261), 'map_per_class': tensor(-1.), 'mar_100_per_class': tensor(-1.), 'classes': tensor([1, 2, 3, 4, 5], dtype=torch.int32)}\n"
     ]
    },
    {
     "name": "stderr",
     "output_type": "stream",
     "text": [
      "Validation:: 100%|██████████| 20/20 [00:05<00:00,  3.37it/s]\n"
     ]
    },
    {
     "name": "stdout",
     "output_type": "stream",
     "text": [
      "mAP results:\n",
      "{'map': tensor(0.0035), 'map_50': tensor(0.0108), 'map_75': tensor(0.0026), 'map_small': tensor(3.4744e-05), 'map_medium': tensor(0.0035), 'map_large': tensor(0.0080), 'mar_1': tensor(0.0111), 'mar_10': tensor(0.0197), 'mar_100': tensor(0.0216), 'mar_small': tensor(0.0017), 'mar_medium': tensor(0.0154), 'mar_large': tensor(0.0337), 'map_per_class': tensor(-1.), 'mar_100_per_class': tensor(-1.), 'classes': tensor([1, 2, 3, 4, 5], dtype=torch.int32)}\n"
     ]
    },
    {
     "name": "stderr",
     "output_type": "stream",
     "text": [
      "Training Epoch 3:: 100%|██████████| 500/500 [02:39<00:00,  3.13it/s, loss=0.776, lr=0.0005]\n"
     ]
    },
    {
     "name": "stdout",
     "output_type": "stream",
     "text": [
      "Average Loss: 0.7734\n"
     ]
    },
    {
     "name": "stderr",
     "output_type": "stream",
     "text": [
      "Validation:: 100%|██████████| 500/500 [02:04<00:00,  4.03it/s]\n"
     ]
    },
    {
     "name": "stdout",
     "output_type": "stream",
     "text": [
      "mAP results:\n",
      "{'map': tensor(0.1575), 'map_50': tensor(0.2844), 'map_75': tensor(0.1528), 'map_small': tensor(0.0239), 'map_medium': tensor(0.1570), 'map_large': tensor(0.3177), 'mar_1': tensor(0.1578), 'mar_10': tensor(0.2991), 'mar_100': tensor(0.3420), 'mar_small': tensor(0.0653), 'mar_medium': tensor(0.3326), 'mar_large': tensor(0.5797), 'map_per_class': tensor(-1.), 'mar_100_per_class': tensor(-1.), 'classes': tensor([1, 2, 3, 4, 5], dtype=torch.int32)}\n"
     ]
    },
    {
     "name": "stderr",
     "output_type": "stream",
     "text": [
      "Validation:: 100%|██████████| 20/20 [00:05<00:00,  3.68it/s]\n"
     ]
    },
    {
     "name": "stdout",
     "output_type": "stream",
     "text": [
      "mAP results:\n",
      "{'map': tensor(0.0040), 'map_50': tensor(0.0117), 'map_75': tensor(0.0034), 'map_small': tensor(4.0226e-05), 'map_medium': tensor(0.0040), 'map_large': tensor(0.0082), 'mar_1': tensor(0.0088), 'mar_10': tensor(0.0171), 'mar_100': tensor(0.0181), 'mar_small': tensor(0.0011), 'mar_medium': tensor(0.0135), 'mar_large': tensor(0.0287), 'map_per_class': tensor(-1.), 'mar_100_per_class': tensor(-1.), 'classes': tensor([1, 2, 3, 4, 5], dtype=torch.int32)}\n"
     ]
    },
    {
     "name": "stderr",
     "output_type": "stream",
     "text": [
      "Training Epoch 4:: 100%|██████████| 500/500 [02:39<00:00,  3.14it/s, loss=0.655, lr=0.0005]\n"
     ]
    },
    {
     "name": "stdout",
     "output_type": "stream",
     "text": [
      "Average Loss: 0.7469\n"
     ]
    },
    {
     "name": "stderr",
     "output_type": "stream",
     "text": [
      "Validation:: 100%|██████████| 500/500 [02:06<00:00,  3.95it/s]\n"
     ]
    },
    {
     "name": "stdout",
     "output_type": "stream",
     "text": [
      "mAP results:\n",
      "{'map': tensor(0.1785), 'map_50': tensor(0.3156), 'map_75': tensor(0.1762), 'map_small': tensor(0.0272), 'map_medium': tensor(0.1749), 'map_large': tensor(0.3474), 'mar_1': tensor(0.1785), 'mar_10': tensor(0.3395), 'mar_100': tensor(0.3866), 'mar_small': tensor(0.0754), 'mar_medium': tensor(0.3809), 'mar_large': tensor(0.6289), 'map_per_class': tensor(-1.), 'mar_100_per_class': tensor(-1.), 'classes': tensor([1, 2, 3, 4, 5], dtype=torch.int32)}\n"
     ]
    },
    {
     "name": "stderr",
     "output_type": "stream",
     "text": [
      "Validation:: 100%|██████████| 20/20 [00:05<00:00,  3.56it/s]\n"
     ]
    },
    {
     "name": "stdout",
     "output_type": "stream",
     "text": [
      "mAP results:\n",
      "{'map': tensor(0.0039), 'map_50': tensor(0.0134), 'map_75': tensor(0.0023), 'map_small': tensor(3.8061e-05), 'map_medium': tensor(0.0039), 'map_large': tensor(0.0112), 'mar_1': tensor(0.0123), 'mar_10': tensor(0.0253), 'mar_100': tensor(0.0264), 'mar_small': tensor(0.0011), 'mar_medium': tensor(0.0193), 'mar_large': tensor(0.0470), 'map_per_class': tensor(-1.), 'mar_100_per_class': tensor(-1.), 'classes': tensor([1, 2, 3, 4, 5], dtype=torch.int32)}\n"
     ]
    },
    {
     "name": "stderr",
     "output_type": "stream",
     "text": [
      "Training Epoch 5:: 100%|██████████| 500/500 [02:38<00:00,  3.15it/s, loss=0.787, lr=0.0005]\n"
     ]
    },
    {
     "name": "stdout",
     "output_type": "stream",
     "text": [
      "Average Loss: 0.7256\n"
     ]
    },
    {
     "name": "stderr",
     "output_type": "stream",
     "text": [
      "Validation:: 100%|██████████| 500/500 [02:05<00:00,  3.98it/s]\n"
     ]
    },
    {
     "name": "stdout",
     "output_type": "stream",
     "text": [
      "mAP results:\n",
      "{'map': tensor(0.1963), 'map_50': tensor(0.3395), 'map_75': tensor(0.1954), 'map_small': tensor(0.0300), 'map_medium': tensor(0.1885), 'map_large': tensor(0.3825), 'mar_1': tensor(0.1872), 'mar_10': tensor(0.3480), 'mar_100': tensor(0.3933), 'mar_small': tensor(0.0825), 'mar_medium': tensor(0.3846), 'mar_large': tensor(0.6377), 'map_per_class': tensor(-1.), 'mar_100_per_class': tensor(-1.), 'classes': tensor([1, 2, 3, 4, 5], dtype=torch.int32)}\n"
     ]
    },
    {
     "name": "stderr",
     "output_type": "stream",
     "text": [
      "Validation:: 100%|██████████| 20/20 [00:05<00:00,  3.62it/s]\n"
     ]
    },
    {
     "name": "stdout",
     "output_type": "stream",
     "text": [
      "mAP results:\n",
      "{'map': tensor(0.0034), 'map_50': tensor(0.0119), 'map_75': tensor(0.0005), 'map_small': tensor(7.5399e-05), 'map_medium': tensor(0.0046), 'map_large': tensor(0.0090), 'mar_1': tensor(0.0109), 'mar_10': tensor(0.0228), 'mar_100': tensor(0.0242), 'mar_small': tensor(0.0014), 'mar_medium': tensor(0.0197), 'mar_large': tensor(0.0401), 'map_per_class': tensor(-1.), 'mar_100_per_class': tensor(-1.), 'classes': tensor([1, 2, 3, 4, 5], dtype=torch.int32)}\n"
     ]
    },
    {
     "name": "stderr",
     "output_type": "stream",
     "text": [
      "Training Epoch 6:: 100%|██████████| 500/500 [02:38<00:00,  3.16it/s, loss=0.754, lr=0.0005]\n"
     ]
    },
    {
     "name": "stdout",
     "output_type": "stream",
     "text": [
      "Average Loss: 0.7094\n"
     ]
    },
    {
     "name": "stderr",
     "output_type": "stream",
     "text": [
      "Validation:: 100%|██████████| 500/500 [02:00<00:00,  4.16it/s]\n"
     ]
    },
    {
     "name": "stdout",
     "output_type": "stream",
     "text": [
      "mAP results:\n",
      "{'map': tensor(0.2131), 'map_50': tensor(0.3619), 'map_75': tensor(0.2130), 'map_small': tensor(0.0315), 'map_medium': tensor(0.2045), 'map_large': tensor(0.4084), 'mar_1': tensor(0.2000), 'mar_10': tensor(0.3637), 'mar_100': tensor(0.4084), 'mar_small': tensor(0.0826), 'mar_medium': tensor(0.4032), 'mar_large': tensor(0.6539), 'map_per_class': tensor(-1.), 'mar_100_per_class': tensor(-1.), 'classes': tensor([1, 2, 3, 4, 5], dtype=torch.int32)}\n"
     ]
    },
    {
     "name": "stderr",
     "output_type": "stream",
     "text": [
      "Validation:: 100%|██████████| 20/20 [00:05<00:00,  3.70it/s]\n"
     ]
    },
    {
     "name": "stdout",
     "output_type": "stream",
     "text": [
      "mAP results:\n",
      "{'map': tensor(0.0050), 'map_50': tensor(0.0159), 'map_75': tensor(0.0010), 'map_small': tensor(5.2006e-05), 'map_medium': tensor(0.0066), 'map_large': tensor(0.0074), 'mar_1': tensor(0.0122), 'mar_10': tensor(0.0195), 'mar_100': tensor(0.0203), 'mar_small': tensor(0.0012), 'mar_medium': tensor(0.0188), 'mar_large': tensor(0.0301), 'map_per_class': tensor(-1.), 'mar_100_per_class': tensor(-1.), 'classes': tensor([1, 2, 3, 4, 5], dtype=torch.int32)}\n"
     ]
    },
    {
     "name": "stderr",
     "output_type": "stream",
     "text": [
      "Training Epoch 7:: 100%|██████████| 500/500 [02:37<00:00,  3.17it/s, loss=0.713, lr=0.0005]\n"
     ]
    },
    {
     "name": "stdout",
     "output_type": "stream",
     "text": [
      "Average Loss: 0.6968\n"
     ]
    },
    {
     "name": "stderr",
     "output_type": "stream",
     "text": [
      "Validation:: 100%|██████████| 500/500 [01:59<00:00,  4.18it/s]\n"
     ]
    },
    {
     "name": "stdout",
     "output_type": "stream",
     "text": [
      "mAP results:\n",
      "{'map': tensor(0.2223), 'map_50': tensor(0.3738), 'map_75': tensor(0.2247), 'map_small': tensor(0.0340), 'map_medium': tensor(0.2156), 'map_large': tensor(0.4230), 'mar_1': tensor(0.2026), 'mar_10': tensor(0.3652), 'mar_100': tensor(0.4088), 'mar_small': tensor(0.0854), 'mar_medium': tensor(0.4048), 'mar_large': tensor(0.6529), 'map_per_class': tensor(-1.), 'mar_100_per_class': tensor(-1.), 'classes': tensor([1, 2, 3, 4, 5], dtype=torch.int32)}\n"
     ]
    },
    {
     "name": "stderr",
     "output_type": "stream",
     "text": [
      "Validation:: 100%|██████████| 20/20 [00:05<00:00,  3.82it/s]\n"
     ]
    },
    {
     "name": "stdout",
     "output_type": "stream",
     "text": [
      "mAP results:\n",
      "{'map': tensor(0.0045), 'map_50': tensor(0.0148), 'map_75': tensor(0.0004), 'map_small': tensor(2.5092e-05), 'map_medium': tensor(0.0067), 'map_large': tensor(0.0069), 'mar_1': tensor(0.0134), 'mar_10': tensor(0.0202), 'mar_100': tensor(0.0209), 'mar_small': tensor(0.0011), 'mar_medium': tensor(0.0187), 'mar_large': tensor(0.0296), 'map_per_class': tensor(-1.), 'mar_100_per_class': tensor(-1.), 'classes': tensor([1, 2, 3, 4, 5], dtype=torch.int32)}\n"
     ]
    },
    {
     "name": "stderr",
     "output_type": "stream",
     "text": [
      "Training Epoch 8:: 100%|██████████| 500/500 [02:37<00:00,  3.18it/s, loss=0.563, lr=0.0005]\n"
     ]
    },
    {
     "name": "stdout",
     "output_type": "stream",
     "text": [
      "Average Loss: 0.6848\n"
     ]
    },
    {
     "name": "stderr",
     "output_type": "stream",
     "text": [
      "Validation:: 100%|██████████| 500/500 [02:00<00:00,  4.15it/s]\n"
     ]
    },
    {
     "name": "stdout",
     "output_type": "stream",
     "text": [
      "mAP results:\n",
      "{'map': tensor(0.2349), 'map_50': tensor(0.3900), 'map_75': tensor(0.2369), 'map_small': tensor(0.0355), 'map_medium': tensor(0.2287), 'map_large': tensor(0.4437), 'mar_1': tensor(0.2091), 'mar_10': tensor(0.3730), 'mar_100': tensor(0.4175), 'mar_small': tensor(0.0896), 'mar_medium': tensor(0.4161), 'mar_large': tensor(0.6622), 'map_per_class': tensor(-1.), 'mar_100_per_class': tensor(-1.), 'classes': tensor([1, 2, 3, 4, 5], dtype=torch.int32)}\n"
     ]
    },
    {
     "name": "stderr",
     "output_type": "stream",
     "text": [
      "Validation:: 100%|██████████| 20/20 [00:05<00:00,  3.70it/s]\n"
     ]
    },
    {
     "name": "stdout",
     "output_type": "stream",
     "text": [
      "mAP results:\n",
      "{'map': tensor(0.0058), 'map_50': tensor(0.0175), 'map_75': tensor(0.0010), 'map_small': tensor(4.3131e-05), 'map_medium': tensor(0.0068), 'map_large': tensor(0.0084), 'mar_1': tensor(0.0131), 'mar_10': tensor(0.0191), 'mar_100': tensor(0.0200), 'mar_small': tensor(0.0014), 'mar_medium': tensor(0.0163), 'mar_large': tensor(0.0333), 'map_per_class': tensor(-1.), 'mar_100_per_class': tensor(-1.), 'classes': tensor([1, 2, 3, 4, 5], dtype=torch.int32)}\n"
     ]
    },
    {
     "name": "stderr",
     "output_type": "stream",
     "text": [
      "Training Epoch 9:: 100%|██████████| 500/500 [02:36<00:00,  3.19it/s, loss=0.849, lr=0.0005]\n"
     ]
    },
    {
     "name": "stdout",
     "output_type": "stream",
     "text": [
      "Average Loss: 0.6750\n"
     ]
    },
    {
     "name": "stderr",
     "output_type": "stream",
     "text": [
      "Validation:: 100%|██████████| 500/500 [01:55<00:00,  4.32it/s]\n"
     ]
    },
    {
     "name": "stdout",
     "output_type": "stream",
     "text": [
      "mAP results:\n",
      "{'map': tensor(0.2429), 'map_50': tensor(0.3993), 'map_75': tensor(0.2465), 'map_small': tensor(0.0363), 'map_medium': tensor(0.2378), 'map_large': tensor(0.4580), 'mar_1': tensor(0.2176), 'mar_10': tensor(0.3877), 'mar_100': tensor(0.4317), 'mar_small': tensor(0.0941), 'mar_medium': tensor(0.4391), 'mar_large': tensor(0.6735), 'map_per_class': tensor(-1.), 'mar_100_per_class': tensor(-1.), 'classes': tensor([1, 2, 3, 4, 5], dtype=torch.int32)}\n"
     ]
    },
    {
     "name": "stderr",
     "output_type": "stream",
     "text": [
      "Validation:: 100%|██████████| 20/20 [00:05<00:00,  3.85it/s]\n"
     ]
    },
    {
     "name": "stdout",
     "output_type": "stream",
     "text": [
      "mAP results:\n",
      "{'map': tensor(0.0054), 'map_50': tensor(0.0157), 'map_75': tensor(0.0003), 'map_small': tensor(2.1702e-05), 'map_medium': tensor(0.0051), 'map_large': tensor(0.0103), 'mar_1': tensor(0.0102), 'mar_10': tensor(0.0153), 'mar_100': tensor(0.0154), 'mar_small': tensor(0.0004), 'mar_medium': tensor(0.0125), 'mar_large': tensor(0.0243), 'map_per_class': tensor(-1.), 'mar_100_per_class': tensor(-1.), 'classes': tensor([1, 2, 3, 4, 5], dtype=torch.int32)}\n"
     ]
    },
    {
     "name": "stderr",
     "output_type": "stream",
     "text": [
      "Training Epoch 10:: 100%|██████████| 500/500 [02:36<00:00,  3.19it/s, loss=0.577, lr=0.0005]\n"
     ]
    },
    {
     "name": "stdout",
     "output_type": "stream",
     "text": [
      "Average Loss: 0.6639\n"
     ]
    },
    {
     "name": "stderr",
     "output_type": "stream",
     "text": [
      "Validation:: 100%|██████████| 500/500 [02:00<00:00,  4.13it/s]\n"
     ]
    },
    {
     "name": "stdout",
     "output_type": "stream",
     "text": [
      "mAP results:\n",
      "{'map': tensor(0.2570), 'map_50': tensor(0.4195), 'map_75': tensor(0.2626), 'map_small': tensor(0.0399), 'map_medium': tensor(0.2504), 'map_large': tensor(0.4785), 'mar_1': tensor(0.2206), 'mar_10': tensor(0.3959), 'mar_100': tensor(0.4418), 'mar_small': tensor(0.0981), 'mar_medium': tensor(0.4461), 'mar_large': tensor(0.6913), 'map_per_class': tensor(-1.), 'mar_100_per_class': tensor(-1.), 'classes': tensor([1, 2, 3, 4, 5], dtype=torch.int32)}\n"
     ]
    },
    {
     "name": "stderr",
     "output_type": "stream",
     "text": [
      "Validation:: 100%|██████████| 20/20 [00:05<00:00,  3.84it/s]\n"
     ]
    },
    {
     "name": "stdout",
     "output_type": "stream",
     "text": [
      "mAP results:\n",
      "{'map': tensor(0.0080), 'map_50': tensor(0.0218), 'map_75': tensor(0.0057), 'map_small': tensor(5.1945e-05), 'map_medium': tensor(0.0065), 'map_large': tensor(0.0150), 'mar_1': tensor(0.0155), 'mar_10': tensor(0.0223), 'mar_100': tensor(0.0234), 'mar_small': tensor(0.0011), 'mar_medium': tensor(0.0187), 'mar_large': tensor(0.0385), 'map_per_class': tensor(-1.), 'mar_100_per_class': tensor(-1.), 'classes': tensor([1, 2, 3, 4, 5], dtype=torch.int32)}\n"
     ]
    },
    {
     "name": "stderr",
     "output_type": "stream",
     "text": [
      "Training Epoch 11:: 100%|██████████| 500/500 [02:36<00:00,  3.20it/s, loss=0.586, lr=0.0005]\n"
     ]
    },
    {
     "name": "stdout",
     "output_type": "stream",
     "text": [
      "Average Loss: 0.6559\n"
     ]
    },
    {
     "name": "stderr",
     "output_type": "stream",
     "text": [
      "Validation:: 100%|██████████| 500/500 [02:02<00:00,  4.09it/s]\n"
     ]
    },
    {
     "name": "stdout",
     "output_type": "stream",
     "text": [
      "mAP results:\n",
      "{'map': tensor(0.2651), 'map_50': tensor(0.4297), 'map_75': tensor(0.2701), 'map_small': tensor(0.0417), 'map_medium': tensor(0.2573), 'map_large': tensor(0.4885), 'mar_1': tensor(0.2244), 'mar_10': tensor(0.4068), 'mar_100': tensor(0.4550), 'mar_small': tensor(0.1066), 'mar_medium': tensor(0.4629), 'mar_large': tensor(0.7017), 'map_per_class': tensor(-1.), 'mar_100_per_class': tensor(-1.), 'classes': tensor([1, 2, 3, 4, 5], dtype=torch.int32)}\n"
     ]
    },
    {
     "name": "stderr",
     "output_type": "stream",
     "text": [
      "Validation:: 100%|██████████| 20/20 [00:05<00:00,  3.58it/s]\n"
     ]
    },
    {
     "name": "stdout",
     "output_type": "stream",
     "text": [
      "mAP results:\n",
      "{'map': tensor(0.0075), 'map_50': tensor(0.0206), 'map_75': tensor(0.0025), 'map_small': tensor(2.7183e-05), 'map_medium': tensor(0.0076), 'map_large': tensor(0.0167), 'mar_1': tensor(0.0179), 'mar_10': tensor(0.0352), 'mar_100': tensor(0.0364), 'mar_small': tensor(0.0014), 'mar_medium': tensor(0.0242), 'mar_large': tensor(0.0748), 'map_per_class': tensor(-1.), 'mar_100_per_class': tensor(-1.), 'classes': tensor([1, 2, 3, 4, 5], dtype=torch.int32)}\n"
     ]
    },
    {
     "name": "stderr",
     "output_type": "stream",
     "text": [
      "Training Epoch 12:: 100%|██████████| 500/500 [02:35<00:00,  3.21it/s, loss=0.969, lr=0.0005]\n"
     ]
    },
    {
     "name": "stdout",
     "output_type": "stream",
     "text": [
      "Average Loss: 0.6499\n"
     ]
    },
    {
     "name": "stderr",
     "output_type": "stream",
     "text": [
      "Validation:: 100%|██████████| 500/500 [01:57<00:00,  4.25it/s]\n"
     ]
    },
    {
     "name": "stdout",
     "output_type": "stream",
     "text": [
      "mAP results:\n",
      "{'map': tensor(0.2778), 'map_50': tensor(0.4416), 'map_75': tensor(0.2858), 'map_small': tensor(0.0425), 'map_medium': tensor(0.2682), 'map_large': tensor(0.5107), 'mar_1': tensor(0.2294), 'mar_10': tensor(0.4100), 'mar_100': tensor(0.4556), 'mar_small': tensor(0.1031), 'mar_medium': tensor(0.4592), 'mar_large': tensor(0.7103), 'map_per_class': tensor(-1.), 'mar_100_per_class': tensor(-1.), 'classes': tensor([1, 2, 3, 4, 5], dtype=torch.int32)}\n"
     ]
    },
    {
     "name": "stderr",
     "output_type": "stream",
     "text": [
      "Validation:: 100%|██████████| 20/20 [00:05<00:00,  3.78it/s]\n"
     ]
    },
    {
     "name": "stdout",
     "output_type": "stream",
     "text": [
      "mAP results:\n",
      "{'map': tensor(0.0075), 'map_50': tensor(0.0180), 'map_75': tensor(0.0045), 'map_small': tensor(3.2537e-05), 'map_medium': tensor(0.0068), 'map_large': tensor(0.0133), 'mar_1': tensor(0.0128), 'mar_10': tensor(0.0202), 'mar_100': tensor(0.0207), 'mar_small': tensor(0.0010), 'mar_medium': tensor(0.0175), 'mar_large': tensor(0.0339), 'map_per_class': tensor(-1.), 'mar_100_per_class': tensor(-1.), 'classes': tensor([1, 2, 3, 4, 5], dtype=torch.int32)}\n"
     ]
    },
    {
     "name": "stderr",
     "output_type": "stream",
     "text": [
      "Training Epoch 13:: 100%|██████████| 500/500 [02:35<00:00,  3.21it/s, loss=0.538, lr=0.0005]\n"
     ]
    },
    {
     "name": "stdout",
     "output_type": "stream",
     "text": [
      "Average Loss: 0.6420\n"
     ]
    },
    {
     "name": "stderr",
     "output_type": "stream",
     "text": [
      "Validation:: 100%|██████████| 500/500 [01:58<00:00,  4.22it/s]\n"
     ]
    },
    {
     "name": "stdout",
     "output_type": "stream",
     "text": [
      "mAP results:\n",
      "{'map': tensor(0.2855), 'map_50': tensor(0.4508), 'map_75': tensor(0.2951), 'map_small': tensor(0.0448), 'map_medium': tensor(0.2793), 'map_large': tensor(0.5213), 'mar_1': tensor(0.2324), 'mar_10': tensor(0.4204), 'mar_100': tensor(0.4663), 'mar_small': tensor(0.1074), 'mar_medium': tensor(0.4760), 'mar_large': tensor(0.7186), 'map_per_class': tensor(-1.), 'mar_100_per_class': tensor(-1.), 'classes': tensor([1, 2, 3, 4, 5], dtype=torch.int32)}\n"
     ]
    },
    {
     "name": "stderr",
     "output_type": "stream",
     "text": [
      "Validation:: 100%|██████████| 20/20 [00:05<00:00,  3.71it/s]\n"
     ]
    },
    {
     "name": "stdout",
     "output_type": "stream",
     "text": [
      "mAP results:\n",
      "{'map': tensor(0.0084), 'map_50': tensor(0.0205), 'map_75': tensor(0.0048), 'map_small': tensor(3.3710e-05), 'map_medium': tensor(0.0076), 'map_large': tensor(0.0195), 'mar_1': tensor(0.0131), 'mar_10': tensor(0.0291), 'mar_100': tensor(0.0306), 'mar_small': tensor(0.0007), 'mar_medium': tensor(0.0238), 'mar_large': tensor(0.0620), 'map_per_class': tensor(-1.), 'mar_100_per_class': tensor(-1.), 'classes': tensor([1, 2, 3, 4, 5], dtype=torch.int32)}\n"
     ]
    },
    {
     "name": "stderr",
     "output_type": "stream",
     "text": [
      "Training Epoch 14:: 100%|██████████| 500/500 [02:35<00:00,  3.22it/s, loss=0.468, lr=0.0005]\n"
     ]
    },
    {
     "name": "stdout",
     "output_type": "stream",
     "text": [
      "Average Loss: 0.6329\n"
     ]
    },
    {
     "name": "stderr",
     "output_type": "stream",
     "text": [
      "Validation:: 100%|██████████| 500/500 [01:58<00:00,  4.23it/s]\n"
     ]
    },
    {
     "name": "stdout",
     "output_type": "stream",
     "text": [
      "mAP results:\n",
      "{'map': tensor(0.2898), 'map_50': tensor(0.4607), 'map_75': tensor(0.3012), 'map_small': tensor(0.0465), 'map_medium': tensor(0.2850), 'map_large': tensor(0.5255), 'mar_1': tensor(0.2365), 'mar_10': tensor(0.4214), 'mar_100': tensor(0.4674), 'mar_small': tensor(0.1100), 'mar_medium': tensor(0.4764), 'mar_large': tensor(0.7189), 'map_per_class': tensor(-1.), 'mar_100_per_class': tensor(-1.), 'classes': tensor([1, 2, 3, 4, 5], dtype=torch.int32)}\n"
     ]
    },
    {
     "name": "stderr",
     "output_type": "stream",
     "text": [
      "Validation:: 100%|██████████| 20/20 [00:05<00:00,  3.78it/s]\n"
     ]
    },
    {
     "name": "stdout",
     "output_type": "stream",
     "text": [
      "mAP results:\n",
      "{'map': tensor(0.0086), 'map_50': tensor(0.0216), 'map_75': tensor(0.0068), 'map_small': tensor(5.1455e-05), 'map_medium': tensor(0.0066), 'map_large': tensor(0.0177), 'mar_1': tensor(0.0158), 'mar_10': tensor(0.0252), 'mar_100': tensor(0.0256), 'mar_small': tensor(0.0013), 'mar_medium': tensor(0.0183), 'mar_large': tensor(0.0488), 'map_per_class': tensor(-1.), 'mar_100_per_class': tensor(-1.), 'classes': tensor([1, 2, 3, 4, 5], dtype=torch.int32)}\n"
     ]
    },
    {
     "name": "stderr",
     "output_type": "stream",
     "text": [
      "Training Epoch 15:: 100%|██████████| 500/500 [02:34<00:00,  3.23it/s, loss=0.715, lr=0.0005]\n"
     ]
    },
    {
     "name": "stdout",
     "output_type": "stream",
     "text": [
      "Average Loss: 0.6292\n"
     ]
    },
    {
     "name": "stderr",
     "output_type": "stream",
     "text": [
      "Validation:: 100%|██████████| 500/500 [01:53<00:00,  4.40it/s]\n"
     ]
    },
    {
     "name": "stdout",
     "output_type": "stream",
     "text": [
      "mAP results:\n",
      "{'map': tensor(0.3020), 'map_50': tensor(0.4737), 'map_75': tensor(0.3133), 'map_small': tensor(0.0469), 'map_medium': tensor(0.2960), 'map_large': tensor(0.5433), 'mar_1': tensor(0.2430), 'mar_10': tensor(0.4320), 'mar_100': tensor(0.4762), 'mar_small': tensor(0.1143), 'mar_medium': tensor(0.4887), 'mar_large': tensor(0.7259), 'map_per_class': tensor(-1.), 'mar_100_per_class': tensor(-1.), 'classes': tensor([1, 2, 3, 4, 5], dtype=torch.int32)}\n"
     ]
    },
    {
     "name": "stderr",
     "output_type": "stream",
     "text": [
      "Validation:: 100%|██████████| 20/20 [00:05<00:00,  3.85it/s]\n"
     ]
    },
    {
     "name": "stdout",
     "output_type": "stream",
     "text": [
      "mAP results:\n",
      "{'map': tensor(0.0065), 'map_50': tensor(0.0139), 'map_75': tensor(0.0062), 'map_small': tensor(2.1414e-05), 'map_medium': tensor(0.0066), 'map_large': tensor(0.0128), 'mar_1': tensor(0.0063), 'mar_10': tensor(0.0163), 'mar_100': tensor(0.0163), 'mar_small': tensor(0.0004), 'mar_medium': tensor(0.0129), 'mar_large': tensor(0.0316), 'map_per_class': tensor(-1.), 'mar_100_per_class': tensor(-1.), 'classes': tensor([1, 2, 3, 4, 5], dtype=torch.int32)}\n"
     ]
    },
    {
     "name": "stderr",
     "output_type": "stream",
     "text": [
      "Training Epoch 16:: 100%|██████████| 500/500 [02:34<00:00,  3.24it/s, loss=0.485, lr=0.0005]\n"
     ]
    },
    {
     "name": "stdout",
     "output_type": "stream",
     "text": [
      "Average Loss: 0.6242\n"
     ]
    },
    {
     "name": "stderr",
     "output_type": "stream",
     "text": [
      "Validation:: 100%|██████████| 500/500 [01:55<00:00,  4.31it/s]\n"
     ]
    },
    {
     "name": "stdout",
     "output_type": "stream",
     "text": [
      "mAP results:\n",
      "{'map': tensor(0.3089), 'map_50': tensor(0.4827), 'map_75': tensor(0.3247), 'map_small': tensor(0.0485), 'map_medium': tensor(0.3059), 'map_large': tensor(0.5505), 'mar_1': tensor(0.2438), 'mar_10': tensor(0.4315), 'mar_100': tensor(0.4771), 'mar_small': tensor(0.1212), 'mar_medium': tensor(0.4879), 'mar_large': tensor(0.7287), 'map_per_class': tensor(-1.), 'mar_100_per_class': tensor(-1.), 'classes': tensor([1, 2, 3, 4, 5], dtype=torch.int32)}\n"
     ]
    },
    {
     "name": "stderr",
     "output_type": "stream",
     "text": [
      "Validation:: 100%|██████████| 20/20 [00:05<00:00,  3.86it/s]\n"
     ]
    },
    {
     "name": "stdout",
     "output_type": "stream",
     "text": [
      "mAP results:\n",
      "{'map': tensor(0.0041), 'map_50': tensor(0.0137), 'map_75': tensor(0.0007), 'map_small': tensor(1.6330e-05), 'map_medium': tensor(0.0063), 'map_large': tensor(0.0081), 'mar_1': tensor(0.0065), 'mar_10': tensor(0.0136), 'mar_100': tensor(0.0142), 'mar_small': tensor(0.0005), 'mar_medium': tensor(0.0145), 'mar_large': tensor(0.0218), 'map_per_class': tensor(-1.), 'mar_100_per_class': tensor(-1.), 'classes': tensor([1, 2, 3, 4, 5], dtype=torch.int32)}\n"
     ]
    },
    {
     "name": "stderr",
     "output_type": "stream",
     "text": [
      "Training Epoch 17:: 100%|██████████| 500/500 [02:34<00:00,  3.24it/s, loss=0.489, lr=0.0005]\n"
     ]
    },
    {
     "name": "stdout",
     "output_type": "stream",
     "text": [
      "Average Loss: 0.6152\n"
     ]
    },
    {
     "name": "stderr",
     "output_type": "stream",
     "text": [
      "Validation:: 100%|██████████| 500/500 [01:55<00:00,  4.34it/s]\n"
     ]
    },
    {
     "name": "stdout",
     "output_type": "stream",
     "text": [
      "mAP results:\n",
      "{'map': tensor(0.3143), 'map_50': tensor(0.4894), 'map_75': tensor(0.3294), 'map_small': tensor(0.0509), 'map_medium': tensor(0.3121), 'map_large': tensor(0.5581), 'mar_1': tensor(0.2436), 'mar_10': tensor(0.4394), 'mar_100': tensor(0.4852), 'mar_small': tensor(0.1255), 'mar_medium': tensor(0.4990), 'mar_large': tensor(0.7354), 'map_per_class': tensor(-1.), 'mar_100_per_class': tensor(-1.), 'classes': tensor([1, 2, 3, 4, 5], dtype=torch.int32)}\n"
     ]
    },
    {
     "name": "stderr",
     "output_type": "stream",
     "text": [
      "Validation:: 100%|██████████| 20/20 [00:05<00:00,  3.85it/s]\n"
     ]
    },
    {
     "name": "stdout",
     "output_type": "stream",
     "text": [
      "mAP results:\n",
      "{'map': tensor(0.0067), 'map_50': tensor(0.0161), 'map_75': tensor(0.0038), 'map_small': tensor(4.5001e-05), 'map_medium': tensor(0.0079), 'map_large': tensor(0.0192), 'mar_1': tensor(0.0090), 'mar_10': tensor(0.0233), 'mar_100': tensor(0.0251), 'mar_small': tensor(0.0008), 'mar_medium': tensor(0.0214), 'mar_large': tensor(0.0417), 'map_per_class': tensor(-1.), 'mar_100_per_class': tensor(-1.), 'classes': tensor([1, 2, 3, 4, 5], dtype=torch.int32)}\n"
     ]
    },
    {
     "name": "stderr",
     "output_type": "stream",
     "text": [
      "Training Epoch 18:: 100%|██████████| 500/500 [02:34<00:00,  3.24it/s, loss=0.522, lr=0.0005]\n"
     ]
    },
    {
     "name": "stdout",
     "output_type": "stream",
     "text": [
      "Average Loss: 0.6146\n"
     ]
    },
    {
     "name": "stderr",
     "output_type": "stream",
     "text": [
      "Validation:: 100%|██████████| 500/500 [01:54<00:00,  4.37it/s]\n"
     ]
    },
    {
     "name": "stdout",
     "output_type": "stream",
     "text": [
      "mAP results:\n",
      "{'map': tensor(0.3175), 'map_50': tensor(0.4899), 'map_75': tensor(0.3303), 'map_small': tensor(0.0505), 'map_medium': tensor(0.3136), 'map_large': tensor(0.5657), 'mar_1': tensor(0.2457), 'mar_10': tensor(0.4336), 'mar_100': tensor(0.4778), 'mar_small': tensor(0.1153), 'mar_medium': tensor(0.4824), 'mar_large': tensor(0.7376), 'map_per_class': tensor(-1.), 'mar_100_per_class': tensor(-1.), 'classes': tensor([1, 2, 3, 4, 5], dtype=torch.int32)}\n"
     ]
    },
    {
     "name": "stderr",
     "output_type": "stream",
     "text": [
      "Validation:: 100%|██████████| 20/20 [00:05<00:00,  3.81it/s]\n"
     ]
    },
    {
     "name": "stdout",
     "output_type": "stream",
     "text": [
      "mAP results:\n",
      "{'map': tensor(0.0052), 'map_50': tensor(0.0161), 'map_75': tensor(0.0029), 'map_small': tensor(5.7033e-05), 'map_medium': tensor(0.0067), 'map_large': tensor(0.0130), 'mar_1': tensor(0.0119), 'mar_10': tensor(0.0195), 'mar_100': tensor(0.0216), 'mar_small': tensor(0.0006), 'mar_medium': tensor(0.0199), 'mar_large': tensor(0.0340), 'map_per_class': tensor(-1.), 'mar_100_per_class': tensor(-1.), 'classes': tensor([1, 2, 3, 4, 5], dtype=torch.int32)}\n"
     ]
    },
    {
     "name": "stderr",
     "output_type": "stream",
     "text": [
      "Training Epoch 19:: 100%|██████████| 500/500 [02:33<00:00,  3.25it/s, loss=0.588, lr=0.0005]\n"
     ]
    },
    {
     "name": "stdout",
     "output_type": "stream",
     "text": [
      "Average Loss: 0.6073\n"
     ]
    },
    {
     "name": "stderr",
     "output_type": "stream",
     "text": [
      "Validation:: 100%|██████████| 500/500 [01:54<00:00,  4.36it/s]\n"
     ]
    },
    {
     "name": "stdout",
     "output_type": "stream",
     "text": [
      "mAP results:\n",
      "{'map': tensor(0.3324), 'map_50': tensor(0.5116), 'map_75': tensor(0.3498), 'map_small': tensor(0.0581), 'map_medium': tensor(0.3283), 'map_large': tensor(0.5854), 'mar_1': tensor(0.2553), 'mar_10': tensor(0.4521), 'mar_100': tensor(0.4974), 'mar_small': tensor(0.1310), 'mar_medium': tensor(0.5134), 'mar_large': tensor(0.7492), 'map_per_class': tensor(-1.), 'mar_100_per_class': tensor(-1.), 'classes': tensor([1, 2, 3, 4, 5], dtype=torch.int32)}\n"
     ]
    },
    {
     "name": "stderr",
     "output_type": "stream",
     "text": [
      "Validation:: 100%|██████████| 20/20 [00:05<00:00,  3.84it/s]\n"
     ]
    },
    {
     "name": "stdout",
     "output_type": "stream",
     "text": [
      "mAP results:\n",
      "{'map': tensor(0.0060), 'map_50': tensor(0.0160), 'map_75': tensor(0.0052), 'map_small': tensor(4.9660e-05), 'map_medium': tensor(0.0067), 'map_large': tensor(0.0184), 'mar_1': tensor(0.0135), 'mar_10': tensor(0.0221), 'mar_100': tensor(0.0238), 'mar_small': tensor(0.0003), 'mar_medium': tensor(0.0189), 'mar_large': tensor(0.0372), 'map_per_class': tensor(-1.), 'mar_100_per_class': tensor(-1.), 'classes': tensor([1, 2, 3, 4, 5], dtype=torch.int32)}\n"
     ]
    },
    {
     "name": "stderr",
     "output_type": "stream",
     "text": [
      "Training Epoch 20:: 100%|██████████| 500/500 [02:33<00:00,  3.25it/s, loss=0.645, lr=0.0005]\n"
     ]
    },
    {
     "name": "stdout",
     "output_type": "stream",
     "text": [
      "Average Loss: 0.6014\n"
     ]
    },
    {
     "name": "stderr",
     "output_type": "stream",
     "text": [
      "Validation:: 100%|██████████| 500/500 [01:55<00:00,  4.34it/s]\n"
     ]
    },
    {
     "name": "stdout",
     "output_type": "stream",
     "text": [
      "mAP results:\n",
      "{'map': tensor(0.3371), 'map_50': tensor(0.5150), 'map_75': tensor(0.3572), 'map_small': tensor(0.0586), 'map_medium': tensor(0.3326), 'map_large': tensor(0.5925), 'mar_1': tensor(0.2570), 'mar_10': tensor(0.4522), 'mar_100': tensor(0.4985), 'mar_small': tensor(0.1328), 'mar_medium': tensor(0.5068), 'mar_large': tensor(0.7572), 'map_per_class': tensor(-1.), 'mar_100_per_class': tensor(-1.), 'classes': tensor([1, 2, 3, 4, 5], dtype=torch.int32)}\n"
     ]
    },
    {
     "name": "stderr",
     "output_type": "stream",
     "text": [
      "Validation:: 100%|██████████| 20/20 [00:05<00:00,  3.75it/s]\n"
     ]
    },
    {
     "name": "stdout",
     "output_type": "stream",
     "text": [
      "mAP results:\n",
      "{'map': tensor(0.0063), 'map_50': tensor(0.0175), 'map_75': tensor(0.0034), 'map_small': tensor(2.1517e-05), 'map_medium': tensor(0.0070), 'map_large': tensor(0.0173), 'mar_1': tensor(0.0191), 'mar_10': tensor(0.0305), 'mar_100': tensor(0.0307), 'mar_small': tensor(0.0005), 'mar_medium': tensor(0.0186), 'mar_large': tensor(0.0589), 'map_per_class': tensor(-1.), 'mar_100_per_class': tensor(-1.), 'classes': tensor([1, 2, 3, 4, 5], dtype=torch.int32)}\n"
     ]
    },
    {
     "name": "stderr",
     "output_type": "stream",
     "text": [
      "Training Epoch 21:: 100%|██████████| 500/500 [02:33<00:00,  3.26it/s, loss=0.545, lr=0.0005]\n"
     ]
    },
    {
     "name": "stdout",
     "output_type": "stream",
     "text": [
      "Average Loss: 0.5973\n"
     ]
    },
    {
     "name": "stderr",
     "output_type": "stream",
     "text": [
      "Validation:: 100%|██████████| 500/500 [01:54<00:00,  4.37it/s]\n"
     ]
    },
    {
     "name": "stdout",
     "output_type": "stream",
     "text": [
      "mAP results:\n",
      "{'map': tensor(0.3395), 'map_50': tensor(0.5173), 'map_75': tensor(0.3560), 'map_small': tensor(0.0546), 'map_medium': tensor(0.3366), 'map_large': tensor(0.5928), 'mar_1': tensor(0.2548), 'mar_10': tensor(0.4526), 'mar_100': tensor(0.4984), 'mar_small': tensor(0.1331), 'mar_medium': tensor(0.5141), 'mar_large': tensor(0.7511), 'map_per_class': tensor(-1.), 'mar_100_per_class': tensor(-1.), 'classes': tensor([1, 2, 3, 4, 5], dtype=torch.int32)}\n"
     ]
    },
    {
     "name": "stderr",
     "output_type": "stream",
     "text": [
      "Validation:: 100%|██████████| 20/20 [00:05<00:00,  3.96it/s]\n"
     ]
    },
    {
     "name": "stdout",
     "output_type": "stream",
     "text": [
      "mAP results:\n",
      "{'map': tensor(0.0049), 'map_50': tensor(0.0154), 'map_75': tensor(0.0033), 'map_small': tensor(4.9505e-05), 'map_medium': tensor(0.0071), 'map_large': tensor(0.0109), 'mar_1': tensor(0.0092), 'mar_10': tensor(0.0174), 'mar_100': tensor(0.0182), 'mar_small': tensor(0.0002), 'mar_medium': tensor(0.0182), 'mar_large': tensor(0.0305), 'map_per_class': tensor(-1.), 'mar_100_per_class': tensor(-1.), 'classes': tensor([1, 2, 3, 4, 5], dtype=torch.int32)}\n"
     ]
    },
    {
     "name": "stderr",
     "output_type": "stream",
     "text": [
      "Training Epoch 22:: 100%|██████████| 500/500 [02:32<00:00,  3.27it/s, loss=0.655, lr=0.0005]\n"
     ]
    },
    {
     "name": "stdout",
     "output_type": "stream",
     "text": [
      "Average Loss: 0.5935\n"
     ]
    },
    {
     "name": "stderr",
     "output_type": "stream",
     "text": [
      "Validation:: 100%|██████████| 500/500 [01:54<00:00,  4.35it/s]\n"
     ]
    },
    {
     "name": "stdout",
     "output_type": "stream",
     "text": [
      "mAP results:\n",
      "{'map': tensor(0.3506), 'map_50': tensor(0.5336), 'map_75': tensor(0.3697), 'map_small': tensor(0.0640), 'map_medium': tensor(0.3473), 'map_large': tensor(0.6091), 'mar_1': tensor(0.2608), 'mar_10': tensor(0.4606), 'mar_100': tensor(0.5070), 'mar_small': tensor(0.1396), 'mar_medium': tensor(0.5196), 'mar_large': tensor(0.7648), 'map_per_class': tensor(-1.), 'mar_100_per_class': tensor(-1.), 'classes': tensor([1, 2, 3, 4, 5], dtype=torch.int32)}\n"
     ]
    },
    {
     "name": "stderr",
     "output_type": "stream",
     "text": [
      "Validation:: 100%|██████████| 20/20 [00:05<00:00,  3.82it/s]\n"
     ]
    },
    {
     "name": "stdout",
     "output_type": "stream",
     "text": [
      "mAP results:\n",
      "{'map': tensor(0.0048), 'map_50': tensor(0.0149), 'map_75': tensor(0.0034), 'map_small': tensor(4.2433e-05), 'map_medium': tensor(0.0069), 'map_large': tensor(0.0139), 'mar_1': tensor(0.0086), 'mar_10': tensor(0.0215), 'mar_100': tensor(0.0221), 'mar_small': tensor(0.0003), 'mar_medium': tensor(0.0232), 'mar_large': tensor(0.0323), 'map_per_class': tensor(-1.), 'mar_100_per_class': tensor(-1.), 'classes': tensor([1, 2, 3, 4, 5], dtype=torch.int32)}\n"
     ]
    },
    {
     "name": "stderr",
     "output_type": "stream",
     "text": [
      "Training Epoch 23:: 100%|██████████| 500/500 [02:33<00:00,  3.26it/s, loss=0.704, lr=0.0005]\n"
     ]
    },
    {
     "name": "stdout",
     "output_type": "stream",
     "text": [
      "Average Loss: 0.5878\n"
     ]
    },
    {
     "name": "stderr",
     "output_type": "stream",
     "text": [
      "Validation:: 100%|██████████| 500/500 [01:53<00:00,  4.42it/s]\n"
     ]
    },
    {
     "name": "stdout",
     "output_type": "stream",
     "text": [
      "mAP results:\n",
      "{'map': tensor(0.3564), 'map_50': tensor(0.5387), 'map_75': tensor(0.3747), 'map_small': tensor(0.0705), 'map_medium': tensor(0.3502), 'map_large': tensor(0.6184), 'mar_1': tensor(0.2605), 'mar_10': tensor(0.4582), 'mar_100': tensor(0.5038), 'mar_small': tensor(0.1394), 'mar_medium': tensor(0.5107), 'mar_large': tensor(0.7649), 'map_per_class': tensor(-1.), 'mar_100_per_class': tensor(-1.), 'classes': tensor([1, 2, 3, 4, 5], dtype=torch.int32)}\n"
     ]
    },
    {
     "name": "stderr",
     "output_type": "stream",
     "text": [
      "Validation:: 100%|██████████| 20/20 [00:05<00:00,  3.99it/s]\n"
     ]
    },
    {
     "name": "stdout",
     "output_type": "stream",
     "text": [
      "mAP results:\n",
      "{'map': tensor(0.0049), 'map_50': tensor(0.0135), 'map_75': tensor(0.0021), 'map_small': tensor(5.1155e-05), 'map_medium': tensor(0.0077), 'map_large': tensor(0.0162), 'mar_1': tensor(0.0070), 'mar_10': tensor(0.0222), 'mar_100': tensor(0.0222), 'mar_small': tensor(0.0002), 'mar_medium': tensor(0.0180), 'mar_large': tensor(0.0417), 'map_per_class': tensor(-1.), 'mar_100_per_class': tensor(-1.), 'classes': tensor([1, 2, 3, 4, 5], dtype=torch.int32)}\n"
     ]
    },
    {
     "name": "stderr",
     "output_type": "stream",
     "text": [
      "Training Epoch 24:: 100%|██████████| 500/500 [02:32<00:00,  3.27it/s, loss=0.639, lr=0.0005]\n"
     ]
    },
    {
     "name": "stdout",
     "output_type": "stream",
     "text": [
      "Average Loss: 0.5857\n"
     ]
    },
    {
     "name": "stderr",
     "output_type": "stream",
     "text": [
      "Validation:: 100%|██████████| 500/500 [01:53<00:00,  4.39it/s]\n"
     ]
    },
    {
     "name": "stdout",
     "output_type": "stream",
     "text": [
      "mAP results:\n",
      "{'map': tensor(0.3623), 'map_50': tensor(0.5462), 'map_75': tensor(0.3814), 'map_small': tensor(0.0670), 'map_medium': tensor(0.3593), 'map_large': tensor(0.6247), 'mar_1': tensor(0.2666), 'mar_10': tensor(0.4725), 'mar_100': tensor(0.5181), 'mar_small': tensor(0.1379), 'mar_medium': tensor(0.5343), 'mar_large': tensor(0.7781), 'map_per_class': tensor(-1.), 'mar_100_per_class': tensor(-1.), 'classes': tensor([1, 2, 3, 4, 5], dtype=torch.int32)}\n"
     ]
    },
    {
     "name": "stderr",
     "output_type": "stream",
     "text": [
      "Validation:: 100%|██████████| 20/20 [00:05<00:00,  3.75it/s]\n"
     ]
    },
    {
     "name": "stdout",
     "output_type": "stream",
     "text": [
      "mAP results:\n",
      "{'map': tensor(0.0071), 'map_50': tensor(0.0181), 'map_75': tensor(0.0061), 'map_small': tensor(3.8504e-05), 'map_medium': tensor(0.0067), 'map_large': tensor(0.0226), 'mar_1': tensor(0.0131), 'mar_10': tensor(0.0282), 'mar_100': tensor(0.0283), 'mar_small': tensor(0.0002), 'mar_medium': tensor(0.0173), 'mar_large': tensor(0.0570), 'map_per_class': tensor(-1.), 'mar_100_per_class': tensor(-1.), 'classes': tensor([1, 2, 3, 4, 5], dtype=torch.int32)}\n",
      "That's it!\n"
     ]
    },
    {
     "data": {
      "image/png": "[encoded data removed]",
      "text/plain": [
       "<Figure size 1000x500 with 1 Axes>"
      ]
     },
     "metadata": {},
     "output_type": "display_data"
    },
    {
     "data": {
      "image/png": "[encoded data removed]",
      "text/plain": [
       "<Figure size 1000x500 with 1 Axes>"
      ]
     },
     "metadata": {},
     "output_type": "display_data"
    }
   ],
   "source": [
    "import os\n",
    "import gc\n",
    "import torch\n",
    "import matplotlib.pyplot as plt\n",
    "\n",
    "save_dir = \"./output\"\n",
    "os.makedirs(save_dir, exist_ok=True)\n",
    "\n",
    "# Lists to track metrics\n",
    "epochs = []\n",
    "\n",
    "train_map = []\n",
    "train_map50 = []\n",
    "val_map = []\n",
    "val_map50 = []\n",
    "\n",
    "for epoch in range(num_epochs):\n",
    "    torch.cuda.empty_cache()\n",
    "    gc.collect()\n",
    "\n",
    "    # === Train ===\n",
    "    train_one_epoch(model, train_data_loader, DEVICE, optimizer, print_freq=50, epoch=epoch, scaler=scaler)\n",
    "\n",
    "    # === Evaluate on training set ===\n",
    "    train_result = evaluate(model, train_data_loader, DEVICE, epoch=None, save_dir=None)\n",
    "    train_map.append(train_result['map'].item())\n",
    "    train_map50.append(train_result['map_50'].item())\n",
    "\n",
    "    # === Evaluate on validation set ===\n",
    "    val_result = evaluate(model, val_data_loader, DEVICE, epoch=epoch, save_dir='predictions')\n",
    "    val_map.append(val_result['map'].item())\n",
    "    val_map50.append(val_result['map_50'].item())\n",
    "    epochs.append(epoch + 1)\n",
    "\n",
    "    # Save best model\n",
    "    if val_result['map'].item() > best_map:\n",
    "        best_map = val_result['map'].item()\n",
    "        torch.save({\n",
    "            'epoch': epoch,\n",
    "            'model_state_dict': model.state_dict(),\n",
    "            'optimizer_state_dict': optimizer.state_dict(),\n",
    "            'best_map': best_map,\n",
    "            'scaler': scaler.state_dict() if scaler is not None else None\n",
    "        }, f'{save_dir}/best_model_checkpoint_epoch_{epoch}.pth')\n",
    "\n",
    "print(\"That's it!\")\n",
    "writer.close()\n",
    "\n",
    "# === Plot 1: Training mAP@[.5:.95] vs mAP@0.5 ===\n",
    "plt.figure(figsize=(10, 5))\n",
    "plt.plot(epochs, train_map, marker='o', label='Train mAP@[.5:.95]', color='blue')\n",
    "plt.plot(epochs, train_map50, marker='x', label='Train mAP@0.5', color='cyan')\n",
    "plt.title('Training mAP Progression')\n",
    "plt.xlabel('Epoch')\n",
    "plt.ylabel('Score')\n",
    "plt.legend()\n",
    "plt.grid(True)\n",
    "plt.tight_layout()\n",
    "plt.savefig(f'{save_dir}/train_map_plot.png')\n",
    "plt.show()\n",
    "\n",
    "# === Plot 2: Validation mAP@[.5:.95] vs mAP@0.5 ===\n",
    "plt.figure(figsize=(10, 5))\n",
    "plt.plot(epochs, val_map, marker='o', label='Validation mAP@[.5:.95]', color='green')\n",
    "plt.plot(epochs, val_map50, marker='x', label='Validation mAP@0.5', color='lime')\n",
    "plt.title('Validation mAP Progression')\n",
    "plt.xlabel('Epoch')\n",
    "plt.ylabel('Score')\n",
    "plt.legend()\n",
    "plt.grid(True)\n",
    "plt.tight_layout()\n",
    "plt.savefig(f'{save_dir}/val_map_plot.png')\n",
    "plt.show()\n"
   ]
  },
  {
   "cell_type": "code",
   "execution_count": 14,
   "id": "309d1d77",
   "metadata": {
    "execution": {
     "iopub.execute_input": "2025-05-29T00:14:19.485742Z",
     "iopub.status.busy": "2025-05-29T00:14:19.485447Z",
     "iopub.status.idle": "2025-05-29T00:14:20.136495Z",
     "shell.execute_reply": "2025-05-29T00:14:20.135530Z"
    },
    "papermill": {
     "duration": 2.196487,
     "end_time": "2025-05-29T00:14:20.137591",
     "exception": true,
     "start_time": "2025-05-29T00:14:17.941104",
     "status": "failed"
    },
    "tags": []
   },
   "outputs": [
    {
     "name": "stderr",
     "output_type": "stream",
     "text": [
      "The parameter 'pretrained' is deprecated since 0.13 and may be removed in the future, please use 'weights' instead.\n",
      "Arguments other than a weight enum or `None` for 'weights' are deprecated since 0.13 and may be removed in the future. The current behavior is equivalent to passing `weights=None`.\n",
      "Downloading: \"https://download.pytorch.org/models/mobilenet_v3_large-8738ca79.pth\" to /root/.cache/torch/hub/checkpoints/mobilenet_v3_large-8738ca79.pth\n",
      "100%|██████████| 21.1M/21.1M [00:00<00:00, 131MB/s] \n"
     ]
    },
    {
     "ename": "FileNotFoundError",
     "evalue": "[Errno 2] No such file or directory: '/kaggle/working/output/best_model_checkpoint_epoch_7.pth'",
     "output_type": "error",
     "traceback": [
      "\u001b[0;31m---------------------------------------------------------------------------\u001b[0m",
      "\u001b[0;31mFileNotFoundError\u001b[0m                         Traceback (most recent call last)",
      "\u001b[0;32m/tmp/ipykernel_19/399645547.py\u001b[0m in \u001b[0;36m<cell line: 0>\u001b[0;34m()\u001b[0m\n\u001b[1;32m     11\u001b[0m \u001b[0;31m# Load the trained model\u001b[0m\u001b[0;34m\u001b[0m\u001b[0;34m\u001b[0m\u001b[0m\n\u001b[1;32m     12\u001b[0m \u001b[0mdevice\u001b[0m \u001b[0;34m=\u001b[0m \u001b[0mtorch\u001b[0m\u001b[0;34m.\u001b[0m\u001b[0mdevice\u001b[0m\u001b[0;34m(\u001b[0m\u001b[0;34m'cuda'\u001b[0m \u001b[0;32mif\u001b[0m \u001b[0mtorch\u001b[0m\u001b[0;34m.\u001b[0m\u001b[0mcuda\u001b[0m\u001b[0;34m.\u001b[0m\u001b[0mis_available\u001b[0m\u001b[0;34m(\u001b[0m\u001b[0;34m)\u001b[0m \u001b[0;32melse\u001b[0m \u001b[0;34m'cpu'\u001b[0m\u001b[0;34m)\u001b[0m\u001b[0;34m\u001b[0m\u001b[0;34m\u001b[0m\u001b[0m\n\u001b[0;32m---> 13\u001b[0;31m \u001b[0mmodel\u001b[0m \u001b[0;34m=\u001b[0m \u001b[0mload_model\u001b[0m\u001b[0;34m(\u001b[0m\u001b[0mcheckpoint_path\u001b[0m\u001b[0;34m,\u001b[0m \u001b[0mdevice\u001b[0m\u001b[0;34m)\u001b[0m\u001b[0;34m\u001b[0m\u001b[0;34m\u001b[0m\u001b[0m\n\u001b[0m",
      "\u001b[0;32m/tmp/ipykernel_19/399645547.py\u001b[0m in \u001b[0;36mload_model\u001b[0;34m(checkpoint_path, device)\u001b[0m\n\u001b[1;32m      3\u001b[0m \u001b[0;32mdef\u001b[0m \u001b[0mload_model\u001b[0m\u001b[0;34m(\u001b[0m\u001b[0mcheckpoint_path\u001b[0m\u001b[0;34m,\u001b[0m \u001b[0mdevice\u001b[0m\u001b[0;34m)\u001b[0m\u001b[0;34m:\u001b[0m\u001b[0;34m\u001b[0m\u001b[0;34m\u001b[0m\u001b[0m\n\u001b[1;32m      4\u001b[0m     \u001b[0mmodel\u001b[0m \u001b[0;34m=\u001b[0m \u001b[0mdetection\u001b[0m\u001b[0;34m.\u001b[0m\u001b[0mfasterrcnn_mobilenet_v3_large_fpn\u001b[0m\u001b[0;34m(\u001b[0m\u001b[0mpretrained\u001b[0m\u001b[0;34m=\u001b[0m\u001b[0;32mFalse\u001b[0m\u001b[0;34m,\u001b[0m \u001b[0mnum_classes\u001b[0m\u001b[0;34m=\u001b[0m\u001b[0;36m6\u001b[0m\u001b[0;34m,\u001b[0m\u001b[0mbox_nms_thresh\u001b[0m\u001b[0;34m=\u001b[0m\u001b[0;36m0.3\u001b[0m\u001b[0;34m)\u001b[0m\u001b[0;34m\u001b[0m\u001b[0;34m\u001b[0m\u001b[0m\n\u001b[0;32m----> 5\u001b[0;31m     \u001b[0mcheckpoint\u001b[0m \u001b[0;34m=\u001b[0m \u001b[0mtorch\u001b[0m\u001b[0;34m.\u001b[0m\u001b[0mload\u001b[0m\u001b[0;34m(\u001b[0m\u001b[0mcheckpoint_path\u001b[0m\u001b[0;34m,\u001b[0m \u001b[0mmap_location\u001b[0m\u001b[0;34m=\u001b[0m\u001b[0mdevice\u001b[0m\u001b[0;34m)\u001b[0m\u001b[0;34m\u001b[0m\u001b[0;34m\u001b[0m\u001b[0m\n\u001b[0m\u001b[1;32m      6\u001b[0m     \u001b[0mmodel\u001b[0m\u001b[0;34m.\u001b[0m\u001b[0mload_state_dict\u001b[0m\u001b[0;34m(\u001b[0m\u001b[0mcheckpoint\u001b[0m\u001b[0;34m[\u001b[0m\u001b[0;34m'model_state_dict'\u001b[0m\u001b[0;34m]\u001b[0m\u001b[0;34m)\u001b[0m\u001b[0;34m\u001b[0m\u001b[0;34m\u001b[0m\u001b[0m\n\u001b[1;32m      7\u001b[0m     \u001b[0mmodel\u001b[0m\u001b[0;34m.\u001b[0m\u001b[0mto\u001b[0m\u001b[0;34m(\u001b[0m\u001b[0mdevice\u001b[0m\u001b[0;34m)\u001b[0m\u001b[0;34m\u001b[0m\u001b[0;34m\u001b[0m\u001b[0m\n",
      "\u001b[0;32m/usr/local/lib/python3.11/dist-packages/torch/serialization.py\u001b[0m in \u001b[0;36mload\u001b[0;34m(f, map_location, pickle_module, weights_only, mmap, **pickle_load_args)\u001b[0m\n\u001b[1;32m   1423\u001b[0m         \u001b[0mpickle_load_args\u001b[0m\u001b[0;34m[\u001b[0m\u001b[0;34m\"encoding\"\u001b[0m\u001b[0;34m]\u001b[0m \u001b[0;34m=\u001b[0m \u001b[0;34m\"utf-8\"\u001b[0m\u001b[0;34m\u001b[0m\u001b[0;34m\u001b[0m\u001b[0m\n\u001b[1;32m   1424\u001b[0m \u001b[0;34m\u001b[0m\u001b[0m\n\u001b[0;32m-> 1425\u001b[0;31m     \u001b[0;32mwith\u001b[0m \u001b[0m_open_file_like\u001b[0m\u001b[0;34m(\u001b[0m\u001b[0mf\u001b[0m\u001b[0;34m,\u001b[0m \u001b[0;34m\"rb\"\u001b[0m\u001b[0;34m)\u001b[0m \u001b[0;32mas\u001b[0m \u001b[0mopened_file\u001b[0m\u001b[0;34m:\u001b[0m\u001b[0;34m\u001b[0m\u001b[0;34m\u001b[0m\u001b[0m\n\u001b[0m\u001b[1;32m   1426\u001b[0m         \u001b[0;32mif\u001b[0m \u001b[0m_is_zipfile\u001b[0m\u001b[0;34m(\u001b[0m\u001b[0mopened_file\u001b[0m\u001b[0;34m)\u001b[0m\u001b[0;34m:\u001b[0m\u001b[0;34m\u001b[0m\u001b[0;34m\u001b[0m\u001b[0m\n\u001b[1;32m   1427\u001b[0m             \u001b[0;31m# The zipfile reader is going to advance the current file position.\u001b[0m\u001b[0;34m\u001b[0m\u001b[0;34m\u001b[0m\u001b[0m\n",
      "\u001b[0;32m/usr/local/lib/python3.11/dist-packages/torch/serialization.py\u001b[0m in \u001b[0;36m_open_file_like\u001b[0;34m(name_or_buffer, mode)\u001b[0m\n\u001b[1;32m    749\u001b[0m \u001b[0;32mdef\u001b[0m \u001b[0m_open_file_like\u001b[0m\u001b[0;34m(\u001b[0m\u001b[0mname_or_buffer\u001b[0m\u001b[0;34m,\u001b[0m \u001b[0mmode\u001b[0m\u001b[0;34m)\u001b[0m\u001b[0;34m:\u001b[0m\u001b[0;34m\u001b[0m\u001b[0;34m\u001b[0m\u001b[0m\n\u001b[1;32m    750\u001b[0m     \u001b[0;32mif\u001b[0m \u001b[0m_is_path\u001b[0m\u001b[0;34m(\u001b[0m\u001b[0mname_or_buffer\u001b[0m\u001b[0;34m)\u001b[0m\u001b[0;34m:\u001b[0m\u001b[0;34m\u001b[0m\u001b[0;34m\u001b[0m\u001b[0m\n\u001b[0;32m--> 751\u001b[0;31m         \u001b[0;32mreturn\u001b[0m \u001b[0m_open_file\u001b[0m\u001b[0;34m(\u001b[0m\u001b[0mname_or_buffer\u001b[0m\u001b[0;34m,\u001b[0m \u001b[0mmode\u001b[0m\u001b[0;34m)\u001b[0m\u001b[0;34m\u001b[0m\u001b[0;34m\u001b[0m\u001b[0m\n\u001b[0m\u001b[1;32m    752\u001b[0m     \u001b[0;32melse\u001b[0m\u001b[0;34m:\u001b[0m\u001b[0;34m\u001b[0m\u001b[0;34m\u001b[0m\u001b[0m\n\u001b[1;32m    753\u001b[0m         \u001b[0;32mif\u001b[0m \u001b[0;34m\"w\"\u001b[0m \u001b[0;32min\u001b[0m \u001b[0mmode\u001b[0m\u001b[0;34m:\u001b[0m\u001b[0;34m\u001b[0m\u001b[0;34m\u001b[0m\u001b[0m\n",
      "\u001b[0;32m/usr/local/lib/python3.11/dist-packages/torch/serialization.py\u001b[0m in \u001b[0;36m__init__\u001b[0;34m(self, name, mode)\u001b[0m\n\u001b[1;32m    730\u001b[0m \u001b[0;32mclass\u001b[0m \u001b[0m_open_file\u001b[0m\u001b[0;34m(\u001b[0m\u001b[0m_opener\u001b[0m\u001b[0;34m)\u001b[0m\u001b[0;34m:\u001b[0m\u001b[0;34m\u001b[0m\u001b[0;34m\u001b[0m\u001b[0m\n\u001b[1;32m    731\u001b[0m     \u001b[0;32mdef\u001b[0m \u001b[0m__init__\u001b[0m\u001b[0;34m(\u001b[0m\u001b[0mself\u001b[0m\u001b[0;34m,\u001b[0m \u001b[0mname\u001b[0m\u001b[0;34m,\u001b[0m \u001b[0mmode\u001b[0m\u001b[0;34m)\u001b[0m\u001b[0;34m:\u001b[0m\u001b[0;34m\u001b[0m\u001b[0;34m\u001b[0m\u001b[0m\n\u001b[0;32m--> 732\u001b[0;31m         \u001b[0msuper\u001b[0m\u001b[0;34m(\u001b[0m\u001b[0;34m)\u001b[0m\u001b[0;34m.\u001b[0m\u001b[0m__init__\u001b[0m\u001b[0;34m(\u001b[0m\u001b[0mopen\u001b[0m\u001b[0;34m(\u001b[0m\u001b[0mname\u001b[0m\u001b[0;34m,\u001b[0m \u001b[0mmode\u001b[0m\u001b[0;34m)\u001b[0m\u001b[0;34m)\u001b[0m\u001b[0;34m\u001b[0m\u001b[0;34m\u001b[0m\u001b[0m\n\u001b[0m\u001b[1;32m    733\u001b[0m \u001b[0;34m\u001b[0m\u001b[0m\n\u001b[1;32m    734\u001b[0m     \u001b[0;32mdef\u001b[0m \u001b[0m__exit__\u001b[0m\u001b[0;34m(\u001b[0m\u001b[0mself\u001b[0m\u001b[0;34m,\u001b[0m \u001b[0;34m*\u001b[0m\u001b[0margs\u001b[0m\u001b[0;34m)\u001b[0m\u001b[0;34m:\u001b[0m\u001b[0;34m\u001b[0m\u001b[0;34m\u001b[0m\u001b[0m\n",
      "\u001b[0;31mFileNotFoundError\u001b[0m: [Errno 2] No such file or directory: '/kaggle/working/output/best_model_checkpoint_epoch_7.pth'"
     ]
    }
   ],
   "source": [
    "checkpoint_path = \"/kaggle/working/output/best_model_checkpoint_epoch_7.pth\"\n",
    "# Function to load the trained model\n",
    "def load_model(checkpoint_path, device):\n",
    "    model = detection.fasterrcnn_mobilenet_v3_large_fpn(pretrained=False, num_classes=6,box_nms_thresh=0.3)\n",
    "    checkpoint = torch.load(checkpoint_path, map_location=device)\n",
    "    model.load_state_dict(checkpoint['model_state_dict'])\n",
    "    model.to(device)\n",
    "    model.eval()\n",
    "    return model\n",
    " \n",
    "# Load the trained model\n",
    "device = torch.device('cuda' if torch.cuda.is_available() else 'cpu')\n",
    "model = load_model(checkpoint_path, device)"
   ]
  },
  {
   "cell_type": "code",
   "execution_count": null,
   "id": "ff976354",
   "metadata": {
    "execution": {
     "iopub.execute_input": "2025-05-28T21:22:12.363273Z",
     "iopub.status.busy": "2025-05-28T21:22:12.363020Z",
     "iopub.status.idle": "2025-05-28T21:22:13.019169Z",
     "shell.execute_reply": "2025-05-28T21:22:13.018271Z",
     "shell.execute_reply.started": "2025-05-28T21:22:12.363247Z"
    },
    "papermill": {
     "duration": null,
     "end_time": null,
     "exception": null,
     "start_time": null,
     "status": "pending"
    },
    "tags": []
   },
   "outputs": [],
   "source": [
    "import torch\n",
    "from torchvision.transforms import functional as F\n",
    "from PIL import Image\n",
    "import matplotlib.pyplot as plt\n",
    "import matplotlib.patches as patches\n",
    "\n",
    "# ====== 1. Load and preprocess thae image ======\n",
    "image_path = \"/kaggle/working/warehouse-1/test/1041302-2676_jpg.rf.6d919ad0e2910aa73a4b0328c5c6cd1f.jpg\"  # change to your image path\n",
    "image = Image.open(image_path).convert(\"RGB\")\n",
    "\n",
    "# Resize and convert to tensor\n",
    "img_tensor = F.to_tensor(image).unsqueeze(0).to(device)  # Add batch dimension\n",
    "\n",
    "# ====== 2. Run the model on the image ======\n",
    "model.eval()\n",
    "with torch.no_grad():\n",
    "    prediction = model(img_tensor)[0]  # Get the first output (only one image)\n",
    "\n",
    "# ====== 3. Visualize the prediction ======\n",
    "# Convert image back to CPU tensor for display\n",
    "img_for_display = img_tensor[0].cpu()\n",
    "\n",
    "# Plotting\n",
    "fig, ax = plt.subplots(1, figsize=(12, 12))\n",
    "show_image_with_boxes(img_for_display, prediction, ax, category_colors)\n",
    "ax.axis(\"off\")\n",
    "plt.show()\n"
   ]
  }
 ],
 "metadata": {
  "kaggle": {
   "accelerator": "nvidiaTeslaT4",
   "dataSources": [],
   "dockerImageVersionId": 31041,
   "isGpuEnabled": true,
   "isInternetEnabled": true,
   "language": "python",
   "sourceType": "notebook"
  },
  "kernelspec": {
   "display_name": "Python 3",
   "language": "python",
   "name": "python3"
  },
  "language_info": {
   "codemirror_mode": {
    "name": "ipython",
    "version": 3
   },
   "file_extension": ".py",
   "mimetype": "text/x-python",
   "name": "python",
   "nbconvert_exporter": "python",
   "pygments_lexer": "ipython3",
   "version": "3.11.11"
  },
  "papermill": {
   "default_parameters": {},
   "duration": 9035.758204,
   "end_time": "2025-05-29T00:14:25.027898",
   "environment_variables": {},
   "exception": true,
   "input_path": "__notebook__.ipynb",
   "output_path": "__notebook__.ipynb",
   "parameters": {},
   "start_time": "2025-05-28T21:43:49.269694",
   "version": "2.6.0"
  }
 },
 "nbformat": 4,
 "nbformat_minor": 5
}
